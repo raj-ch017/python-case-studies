{
 "cells": [
  {
   "cell_type": "markdown",
   "id": "cca677fc",
   "metadata": {},
   "source": [
    "# Exploring DNA Sequencing and Analysis\n",
    "---\n",
    "The preservation, retrieval, and interpretation of genetic instructions are fundamental for the existence and functionality of living cells. These instructions play a crucial role in the formation and upkeep of living organisms. It is well-established that genetic data is housed within the deoxyribonucleic acid (DNA) present in all living organisms.\n",
    "\n",
    "\n",
    "DNA is a discrete, linear code ubiquitously present in most of the cells within an organism, consisting of a string of characters drawn from a set of four options.\n",
    "\n",
    "These characters are:\n",
    "\n",
    "    A - Adenine\n",
    "    C - Cytosine\n",
    "    G - Guanine\n",
    "    T - Thymine\n",
    "    \n",
    "They stand for the first letters with the four nucleotides used to construct DNA.    \n",
    "\n",
    "Each unique three character sequence of nucleotides, sometimes called a nucleotide triplet, corresponds to one amino acid. The sequence of amino acids is unique for each type of protein and all proteins are built from the same set of just 20 amino acids for all living things\n",
    "\n",
    "Protein molecules dominate the behaviour of the cell serving as structural supports, chemical catalysts, molecular motors."
   ]
  },
  {
   "cell_type": "markdown",
   "id": "750a2044",
   "metadata": {},
   "source": [
    "## Central Dogma of Molecular Biology\n",
    "\n",
    "DNA serves as a master template for the production of all cellular proteins and other molecules, and it is responsible for controlling the cell's growth and reproduction.\n",
    "\n",
    "\n",
    "The genetic code embedded in the DNA sequence is read in groups of three `nucleotides`, or `codons`, which code for specific amino acids. These amino acids are then linked in a particular order to form a protein molecule.\n",
    "\n",
    "\n",
    "Errors or mutations in the DNA sequence can significantly affect the organism, leading to genetic diseases, developmental disorders, or even cancer. However, some modifications can also provide a selective advantage and contribute to evolution by providing new traits that help an organism adapt to changing environmental conditions."
   ]
  },
  {
   "cell_type": "markdown",
   "id": "19f3f2f8",
   "metadata": {},
   "source": [
    "## Task Description\n",
    "---\n",
    "\n",
    "**Task 1: Downloading DNA Strand as a Text File**\n",
    "\n",
    "- **Description**: Download the DNA strand from a publicly available web-based repository of DNA sequences.\n",
    "\n",
    "- **Subtasks**:\n",
    "\n",
    "        Identify the appropriate repository for downloading the DNA strand.\n",
    "        Locate the DNA sequence of interest.\n",
    "        Download the DNA sequence in the form of a text file.\n",
    "\n",
    "\n",
    "\n",
    "**Task 2: DNA Translation**\n",
    "\n",
    "- **Description**: Write code to translate the DNA sequence to a sequence of amino acids using the genetic code.\n",
    "- **Subtasks**:\n",
    "\n",
    "        Understand the genetic code and the process of DNA translation.\n",
    "        Write a code that converts the DNA sequence to its corresponding amino acid sequence.\n",
    "        Ensure the code works correctly for various DNA sequences.\n",
    "\n",
    "\n",
    "\n",
    "**Task 3: Checking the Solution**\n",
    "\n",
    "- **Description**: Download the amino acid sequence and check whether it matches with the expected sequence.\n",
    "\n",
    "\n",
    "- **Subtasks**:\n",
    "\n",
    "        Identify a publicly available web-based repository for downloading amino acid sequences.\n",
    "        Locate the amino acid sequence corresponding to the downloaded DNA sequence.\n",
    "        Download the amino acid sequence.\n",
    "        Compare the translated amino acid sequence with the downloaded one to confirm the correctness of the code."
   ]
  },
  {
   "cell_type": "markdown",
   "id": "4272febf",
   "metadata": {},
   "source": [
    "Two files are downloaded from the National Centre for Biotechnology Information (NCBI), including a DNA strand and its corresponding protein sequence of amino acids translated from the DNA."
   ]
  },
  {
   "cell_type": "code",
   "execution_count": 1,
   "id": "3537d19a",
   "metadata": {},
   "outputs": [],
   "source": [
    "import os"
   ]
  },
  {
   "cell_type": "code",
   "execution_count": 2,
   "id": "2e791775",
   "metadata": {},
   "outputs": [],
   "source": [
    "relative_path = './'\n",
    "\n",
    "dna_file_path = os.path.join(relative_path,'dna_seq1.txt')\n",
    "protein_file_path = os.path.join(relative_path,'protein_seq1.txt')"
   ]
  },
  {
   "cell_type": "markdown",
   "id": "b47ea671",
   "metadata": {},
   "source": [
    "Subsequently, the program proceeds to read the files."
   ]
  },
  {
   "cell_type": "code",
   "execution_count": 3,
   "id": "5ad3e02f",
   "metadata": {},
   "outputs": [],
   "source": [
    "dna_file = open(dna_file_path,\"r\")\n",
    "\n",
    "dna_seq = dna_file.read()"
   ]
  },
  {
   "cell_type": "code",
   "execution_count": 4,
   "id": "7835a29a",
   "metadata": {},
   "outputs": [
    {
     "data": {
      "text/plain": [
       "'GGTCAGAAAAAGCCCTCTCCATGTCTACTCACGATACATCCCTGAAAACCACTGAGGAAGTGGCTTTTCA\\nGATCATCTTGCTTTGCCAGTTTGGGGTTGGGACTTTTGCCAATGTATTTCTCTTTGTCTATAATTTCTCT\\nCCAATCTCGACTGGTTCTAAACAGAGGCCCAGACAAGTGATTTTAAGACACATGGCTGTGGCCAATGCCT\\nTAACTCTCTTCCTCACTATATTTCCAAACAACATGATGACTTTTGCTCCAATTATTCCTCAAACTGACCT\\nCAAATGTAAATTAGAATTCTTCACTCGCCTCGTGGCAAGAAGCACAAACTTGTGTTCAACTTGTGTTCTG\\nAGTATCCATCAGTTTGTCACACTTGTTCCTGTTAATTCAGGTAAAGGAATACTCAGAGCAAGTGTCACAA\\nACATGGCAAGTTATTCTTGTTACAGTTGTTGGTTCTTCAGTGTCTTAAATAACATCTACATTCCAATTAA\\nGGTCACTGGTCCACAGTTAACAGACAATAACAATAACTCTAAAAGCAAGTTGTTCTGTTCCACTTCTGAT\\nTTCAGTGTAGGCATTGTCTTCTTGAGGTTTGCCCATGATGCCACATTCATGAGCATCATGGTCTGGACCA\\nGTGTCTCCATGGTACTTCTCCTCCATAGACATTGTCAGAGAATGCAGTACATATTCACTCTCAATCAGGA\\nCCCCAGGGGCCAAGCAGAGACCACAGCAACCCATACTATCCTGATGCTGGTAGTCACATTTGTTGGCTTT\\nTATCTTCTAAGTCTTATTTGTATCATCTTTTACACCTATTTTATATATTCTCATCATTCCCTGAGGCATT\\nGCAATGACATTTTGGTTTCGGGTTTCCCTACAATTTCTCCTTTACTGTTGACCTTCAGAGACCCTAAGGG\\nTCCTTGTTCTGTGTTCTTCAACTGTTGAAAGCCAGAGTCACTAAAAATGCCAAACACAGAAGACAGCTTT\\nGCTAATACCATTAAATACTTTATTCCATAAATATGTTTTTAAAAGCTTGTATGAACAAGGTATGGTGCTC\\nACTGCTATACTTATAAAAGAGTAAGGTTATAATCACTTGTTGATATGAAAAGATTTCTGGTTGGAATCTG\\nATTGAAACAGTGAGTTATTCACCACCCTCCATTCTCT'"
      ]
     },
     "execution_count": 4,
     "metadata": {},
     "output_type": "execute_result"
    }
   ],
   "source": [
    "dna_seq"
   ]
  },
  {
   "cell_type": "markdown",
   "id": "44e50078",
   "metadata": {},
   "source": [
    "The file under consideration contains the `\\n` character, as a result of copying and pasting text from a web browser to a text editor.\n",
    "This character effects the way the string gets printed."
   ]
  },
  {
   "cell_type": "code",
   "execution_count": 5,
   "id": "c4bdd59e",
   "metadata": {},
   "outputs": [
    {
     "name": "stdout",
     "output_type": "stream",
     "text": [
      "GGTCAGAAAAAGCCCTCTCCATGTCTACTCACGATACATCCCTGAAAACCACTGAGGAAGTGGCTTTTCA\n",
      "GATCATCTTGCTTTGCCAGTTTGGGGTTGGGACTTTTGCCAATGTATTTCTCTTTGTCTATAATTTCTCT\n",
      "CCAATCTCGACTGGTTCTAAACAGAGGCCCAGACAAGTGATTTTAAGACACATGGCTGTGGCCAATGCCT\n",
      "TAACTCTCTTCCTCACTATATTTCCAAACAACATGATGACTTTTGCTCCAATTATTCCTCAAACTGACCT\n",
      "CAAATGTAAATTAGAATTCTTCACTCGCCTCGTGGCAAGAAGCACAAACTTGTGTTCAACTTGTGTTCTG\n",
      "AGTATCCATCAGTTTGTCACACTTGTTCCTGTTAATTCAGGTAAAGGAATACTCAGAGCAAGTGTCACAA\n",
      "ACATGGCAAGTTATTCTTGTTACAGTTGTTGGTTCTTCAGTGTCTTAAATAACATCTACATTCCAATTAA\n",
      "GGTCACTGGTCCACAGTTAACAGACAATAACAATAACTCTAAAAGCAAGTTGTTCTGTTCCACTTCTGAT\n",
      "TTCAGTGTAGGCATTGTCTTCTTGAGGTTTGCCCATGATGCCACATTCATGAGCATCATGGTCTGGACCA\n",
      "GTGTCTCCATGGTACTTCTCCTCCATAGACATTGTCAGAGAATGCAGTACATATTCACTCTCAATCAGGA\n",
      "CCCCAGGGGCCAAGCAGAGACCACAGCAACCCATACTATCCTGATGCTGGTAGTCACATTTGTTGGCTTT\n",
      "TATCTTCTAAGTCTTATTTGTATCATCTTTTACACCTATTTTATATATTCTCATCATTCCCTGAGGCATT\n",
      "GCAATGACATTTTGGTTTCGGGTTTCCCTACAATTTCTCCTTTACTGTTGACCTTCAGAGACCCTAAGGG\n",
      "TCCTTGTTCTGTGTTCTTCAACTGTTGAAAGCCAGAGTCACTAAAAATGCCAAACACAGAAGACAGCTTT\n",
      "GCTAATACCATTAAATACTTTATTCCATAAATATGTTTTTAAAAGCTTGTATGAACAAGGTATGGTGCTC\n",
      "ACTGCTATACTTATAAAAGAGTAAGGTTATAATCACTTGTTGATATGAAAAGATTTCTGGTTGGAATCTG\n",
      "ATTGAAACAGTGAGTTATTCACCACCCTCCATTCTCT\n"
     ]
    }
   ],
   "source": [
    "print(dna_seq)"
   ]
  },
  {
   "cell_type": "markdown",
   "id": "0eb6de3c",
   "metadata": {},
   "source": [
    "To replace the newline character, the `.replace()` method can be used with two arguments. The first argument is the substring to be replaced and the second argument is the substring to replace the first argument. \n",
    "\n",
    "The method replaces every occurrence of the first argument with the second argument. Since strings are immutable, the replace method returns a new string which must be assigned to a new variable.\n"
   ]
  },
  {
   "cell_type": "code",
   "execution_count": 6,
   "id": "11a829ed",
   "metadata": {},
   "outputs": [],
   "source": [
    "dna_seq = dna_seq.replace(\"\\n\",\"\")\n",
    "dna_seq = dna_seq.replace(\"\\r\",\"\")"
   ]
  },
  {
   "cell_type": "code",
   "execution_count": 7,
   "id": "9ac14afb",
   "metadata": {},
   "outputs": [
    {
     "name": "stdout",
     "output_type": "stream",
     "text": [
      "GGTCAGAAAAAGCCCTCTCCATGTCTACTCACGATACATCCCTGAAAACCACTGAGGAAGTGGCTTTTCAGATCATCTTGCTTTGCCAGTTTGGGGTTGGGACTTTTGCCAATGTATTTCTCTTTGTCTATAATTTCTCTCCAATCTCGACTGGTTCTAAACAGAGGCCCAGACAAGTGATTTTAAGACACATGGCTGTGGCCAATGCCTTAACTCTCTTCCTCACTATATTTCCAAACAACATGATGACTTTTGCTCCAATTATTCCTCAAACTGACCTCAAATGTAAATTAGAATTCTTCACTCGCCTCGTGGCAAGAAGCACAAACTTGTGTTCAACTTGTGTTCTGAGTATCCATCAGTTTGTCACACTTGTTCCTGTTAATTCAGGTAAAGGAATACTCAGAGCAAGTGTCACAAACATGGCAAGTTATTCTTGTTACAGTTGTTGGTTCTTCAGTGTCTTAAATAACATCTACATTCCAATTAAGGTCACTGGTCCACAGTTAACAGACAATAACAATAACTCTAAAAGCAAGTTGTTCTGTTCCACTTCTGATTTCAGTGTAGGCATTGTCTTCTTGAGGTTTGCCCATGATGCCACATTCATGAGCATCATGGTCTGGACCAGTGTCTCCATGGTACTTCTCCTCCATAGACATTGTCAGAGAATGCAGTACATATTCACTCTCAATCAGGACCCCAGGGGCCAAGCAGAGACCACAGCAACCCATACTATCCTGATGCTGGTAGTCACATTTGTTGGCTTTTATCTTCTAAGTCTTATTTGTATCATCTTTTACACCTATTTTATATATTCTCATCATTCCCTGAGGCATTGCAATGACATTTTGGTTTCGGGTTTCCCTACAATTTCTCCTTTACTGTTGACCTTCAGAGACCCTAAGGGTCCTTGTTCTGTGTTCTTCAACTGTTGAAAGCCAGAGTCACTAAAAATGCCAAACACAGAAGACAGCTTTGCTAATACCATTAAATACTTTATTCCATAAATATGTTTTTAAAAGCTTGTATGAACAAGGTATGGTGCTCACTGCTATACTTATAAAAGAGTAAGGTTATAATCACTTGTTGATATGAAAAGATTTCTGGTTGGAATCTGATTGAAACAGTGAGTTATTCACCACCCTCCATTCTCT\n"
     ]
    }
   ],
   "source": [
    "print(dna_seq)"
   ]
  },
  {
   "cell_type": "markdown",
   "id": "e522fe5d",
   "metadata": {},
   "source": [
    "The process of translating the code into its protein sequence involves a table lookup operation. \n",
    "\n",
    "In this case study, a dictionary object is utilized to aid in the translation process. The keys of the dictionary are strings, each consisting of three letters selected from a four-letter alphabet, while the value of each key is a string consisting of a single character, representing the corresponding amino acid.\n"
   ]
  },
  {
   "cell_type": "code",
   "execution_count": 8,
   "id": "93ed0676",
   "metadata": {},
   "outputs": [],
   "source": [
    "table = {\n",
    "    \n",
    "    'ATA':'I', 'ATC':'I', 'ATT':'I', 'ATG':'M',\n",
    "    'ACA':'T', 'ACC':'T', 'ACG':'T', 'ACT':'T',\n",
    "    'AAC':'N', 'AAT':'N', 'AAA':'K', 'AAG':'K',\n",
    "    'AGC':'S', 'AGT':'S', 'AGA':'R', 'AGG':'R',\n",
    "    'CTA':'L', 'CTC':'L', 'CTG':'L', 'CTT':'L',\n",
    "    'CCA':'P', 'CCC':'P', 'CCG':'P', 'CCT':'P',\n",
    "    'CAC':'H', 'CAT':'H', 'CAA':'Q', 'CAG':'Q',\n",
    "    'CGA':'R', 'CGC':'R', 'CGG':'R', 'CGT':'R',\n",
    "    'GTA':'V', 'GTC':'V', 'GTG':'V', 'GTT':'V',\n",
    "    'GCA':'A', 'GCC':'A', 'GCG':'A', 'GCT':'A',\n",
    "    'GAC':'D', 'GAT':'D', 'GAA':'E', 'GAG':'E',\n",
    "    'GGA':'G', 'GGC':'G', 'GGG':'G', 'GGT':'G',\n",
    "    'TCA':'S', 'TCC':'S', 'TCG':'S', 'TCT':'S',\n",
    "    'TTC':'F', 'TTT':'F', 'TTA':'L', 'TTG':'L',\n",
    "    'TAC':'Y', 'TAT':'Y', 'TAA':'_', 'TAG':'_',\n",
    "    'TGC':'C', 'TGT':'C', 'TGA':'_', 'TGG':'W'\n",
    "    \n",
    "}"
   ]
  },
  {
   "cell_type": "markdown",
   "id": "359ac8df",
   "metadata": {},
   "source": [
    "To verify whether the length of the DNA sequence is divisible by 3, the code must utilize the `modulus` operator with the value 3.\n",
    "\n",
    "In the event that the length is not divisible by 3, the code should discard the last one or two nucleotides, since they will not correspond to a complete codon."
   ]
  },
  {
   "cell_type": "code",
   "execution_count": 9,
   "id": "df4469da",
   "metadata": {},
   "outputs": [
    {
     "data": {
      "text/plain": [
       "False"
      ]
     },
     "execution_count": 9,
     "metadata": {},
     "output_type": "execute_result"
    }
   ],
   "source": [
    "(len(dna_seq) % 3) == 0"
   ]
  },
  {
   "cell_type": "markdown",
   "id": "5db505ca",
   "metadata": {},
   "source": [
    "The code snippet below iterates through the DNA sequence `dna_seq` starting from index 20 and icrements the index by 3 in each step, until reaching index 937 (inclusive).\n",
    "\n",
    "For each set of three consecutive nucleotides in the DNA sequence, it looks up the corresponding amino acid using the `table` dictionary. If the amino acid is not a stop codon (represented by `_`), the amino acid is appended to the variable `amino_string`.\n",
    "\n",
    "By the end of the loop, the `amino_string` will contain the amino acid sequences translated from the DNA sequences, excluding any stop codons.\n",
    "\n",
    "**Note**\n",
    "The code assumes the existence of the `table` dictionary, which maps the codons to their corresponding amino acids. Without the definition of the dictionary, the code will raise a `NameError`."
   ]
  },
  {
   "cell_type": "code",
   "execution_count": 10,
   "id": "72f4d9b9",
   "metadata": {},
   "outputs": [],
   "source": [
    "amino_string = \"\"\n",
    "\n",
    "for ind in range(20,938,3):\n",
    "    \n",
    "    codon = dna_seq[ind:ind+3]\n",
    "    amino = table[codon]\n",
    "    if amino != \"_\":\n",
    "        amino_string = amino_string + amino"
   ]
  },
  {
   "cell_type": "code",
   "execution_count": 11,
   "id": "5d826f1e",
   "metadata": {
    "scrolled": true
   },
   "outputs": [
    {
     "data": {
      "text/plain": [
       "'MSTHDTSLKTTEEVAFQIILLCQFGVGTFANVFLFVYNFSPISTGSKQRPRQVILRHMAVANALTLFLTIFPNNMMTFAPIIPQTDLKCKLEFFTRLVARSTNLCSTCVLSIHQFVTLVPVNSGKGILRASVTNMASYSCYSCWFFSVLNNIYIPIKVTGPQLTDNNNNSKSKLFCSTSDFSVGIVFLRFAHDATFMSIMVWTSVSMVLLLHRHCQRMQYIFTLNQDPRGQAETTATHTILMLVVTFVGFYLLSLICIIFYTYFIYSHHSLRHCNDILVSGFPTISPLLLTFRDPKGPCSVFFNC'"
      ]
     },
     "execution_count": 11,
     "metadata": {},
     "output_type": "execute_result"
    }
   ],
   "source": [
    "amino_string"
   ]
  },
  {
   "cell_type": "markdown",
   "id": "05882f08",
   "metadata": {},
   "source": [
    "The following code reads in the protein sequence from the file that contains the translated amino acid sequence, removes any newline chracters `\\n` from the sequence and prints the cleaned protein sequence.\n",
    "\n",
    "The last line of code checks whether the variable `amino_string` is equal to the cleaned protein sequence `protein_seq`."
   ]
  },
  {
   "cell_type": "code",
   "execution_count": 12,
   "id": "b14bd37e",
   "metadata": {},
   "outputs": [],
   "source": [
    "protein_file = open(protein_file_path,'r')\n",
    "\n",
    "protein_seq = protein_file.read()"
   ]
  },
  {
   "cell_type": "code",
   "execution_count": 13,
   "id": "d8e9fd24",
   "metadata": {},
   "outputs": [
    {
     "name": "stdout",
     "output_type": "stream",
     "text": [
      "MSTHDTSLKTTEEVAFQIILLCQFGVGTFANVFLFVYNFSPISTGSKQRPRQVILRHMAVANALTLFLTIFPNNMMTFAPIIPQTDLKCKLEFFTRLVARSTNLCSTCVLSIHQFVTLVPVNSGKGILRASVTNMASYSCYSCWFFSVLNNIYIPIKVTGPQLTDNNNNSKSKLFCSTSDFSVGIVFLRFAHDATFMSIMVWTSVSMVLLLHRHCQRMQYIFTLNQDPRGQAETTATHTILMLVVTFVGFYLLSLICIIFYTYFIYSHHSLRHCNDILVSGFPTISPLLLTFRDPKGPCSVFFNC\n"
     ]
    }
   ],
   "source": [
    "protein_seq = protein_seq.replace(\"\\n\",\"\")\n",
    "\n",
    "print(protein_seq)"
   ]
  },
  {
   "cell_type": "code",
   "execution_count": 14,
   "id": "216619fe",
   "metadata": {},
   "outputs": [
    {
     "data": {
      "text/plain": [
       "True"
      ]
     },
     "execution_count": 14,
     "metadata": {},
     "output_type": "execute_result"
    }
   ],
   "source": [
    "amino_string == protein_seq\n"
   ]
  },
  {
   "cell_type": "markdown",
   "id": "43551015",
   "metadata": {},
   "source": [
    "## Functions\n",
    "---\n",
    "\n",
    "The function `read_sequence` reads a text file and removes newline and carriage return characters from the string. It preprocesses the input file to prepare it for subsequent analysis."
   ]
  },
  {
   "cell_type": "code",
   "execution_count": 15,
   "id": "0ac24c8a",
   "metadata": {},
   "outputs": [],
   "source": [
    "def read_sequence(filename):\n",
    "    \"\"\"\n",
    "    Reads a file and preprocess its content to remove newline and\n",
    "    carriage return characters.\n",
    "\n",
    "    Input\n",
    "        filename (str) - the name of the file\n",
    "    \n",
    "    Returns\n",
    "        out_string (str) - modified output string with newline and\n",
    "        carriage return characters removed\n",
    "    \"\"\"\n",
    "    \n",
    "    with open(filename,'r') as file:\n",
    "        string_seq = file.read()\n",
    "        \n",
    "        string_seq = string_seq.replace(\"\\n\",\"\")\n",
    "        string_seq = string_seq.replace(\"\\r\",\"\")\n",
    "\n",
    "        # close the file\n",
    "        file.close()\n",
    "        \n",
    "        return string_seq"
   ]
  },
  {
   "cell_type": "markdown",
   "id": "05a5140a",
   "metadata": {},
   "source": [
    "The `lookup_table` function takes a string of codons as input and returns the corresponding amino acid. It performs a table lookup to map each possible codon to the respective amino acid."
   ]
  },
  {
   "cell_type": "code",
   "execution_count": 16,
   "id": "7d8fe249",
   "metadata": {},
   "outputs": [],
   "source": [
    "def lookup_table(input_codon):\n",
    "    \"\"\"\n",
    "    Translate a given DNA codon into the corresponding amino acid.\n",
    "\n",
    "    Input\n",
    "        input_codon (str) - dna codon\n",
    "    \n",
    "    Returns\n",
    "        amino (str) - translated amino-acid\n",
    "    \"\"\"\n",
    "    \n",
    "    table = {\n",
    "    \n",
    "    'ATA':'I', 'ATC':'I', 'ATT':'I', 'ATG':'M',\n",
    "    'ACA':'T', 'ACC':'T', 'ACG':'T', 'ACT':'T',\n",
    "    'AAC':'N', 'AAT':'N', 'AAA':'K', 'AAG':'K',\n",
    "    'AGC':'S', 'AGT':'S', 'AGA':'R', 'AGG':'R',\n",
    "    'CTA':'L', 'CTC':'L', 'CTG':'L', 'CTT':'L',\n",
    "    'CCA':'P', 'CCC':'P', 'CCG':'P', 'CCT':'P',\n",
    "    'CAC':'H', 'CAT':'H', 'CAA':'Q', 'CAG':'Q',\n",
    "    'CGA':'R', 'CGC':'R', 'CGG':'R', 'CGT':'R',\n",
    "    'GTA':'V', 'GTC':'V', 'GTG':'V', 'GTT':'V',\n",
    "    'GCA':'A', 'GCC':'A', 'GCG':'A', 'GCT':'A',\n",
    "    'GAC':'D', 'GAT':'D', 'GAA':'E', 'GAG':'E',\n",
    "    'GGA':'G', 'GGC':'G', 'GGG':'G', 'GGT':'G',\n",
    "    'TCA':'S', 'TCC':'S', 'TCG':'S', 'TCT':'S',\n",
    "    'TTC':'F', 'TTT':'F', 'TTA':'L', 'TTG':'L',\n",
    "    'TAC':'Y', 'TAT':'Y', 'TAA':'_', 'TAG':'_',\n",
    "    'TGC':'C', 'TGT':'C', 'TGA':'_', 'TGG':'W'\n",
    "    \n",
    "    }\n",
    "        \n",
    "    amino = table[input_codon]\n",
    "        \n",
    "    return amino\n",
    "    "
   ]
  },
  {
   "cell_type": "markdown",
   "id": "76f0cf40",
   "metadata": {},
   "source": [
    "The `translate` function takes a string of DNA nucleotides as input and returns the corresponding amino acid sequence. The process involves dividing the DNA sequence into non-overlapping groups of three nucleotides (codons), which are then translated into amino acids using the `lookup_table` function.\n",
    "\n",
    "In this context, the NCBI website offers the start codon index and stop codon index for a specific DNA sequence under the name **CDS**. Notably, the indexing for these sequences begins at 1. \n",
    "\n",
    "Therefore, the start codon index needs to be reduced by 1 to align with the Python indexing that begins at 0."
   ]
  },
  {
   "cell_type": "markdown",
   "id": "42429017",
   "metadata": {},
   "source": [
    "![dna_cds.png](dna_cds.png)"
   ]
  },
  {
   "cell_type": "code",
   "execution_count": 17,
   "id": "aa807529",
   "metadata": {},
   "outputs": [],
   "source": [
    "def translate(filename):\n",
    "    \"\"\"\n",
    "    Translate a specific DNA sequence from the given file into its\n",
    "    corresponding protein sequence.\n",
    "\n",
    "    Input\n",
    "        filename (str) - name of file to be translated\n",
    "    \n",
    "    Returns\n",
    "        amino_sequence (str) - translated protein sequence for the given file\n",
    "    \"\"\"\n",
    "    \n",
    "    dna_seq = read_sequence(filename)\n",
    "    \n",
    "    start = int(input(\"Enter starting position of codon: \"))\n",
    "    end = int(input(\"Enter stopping position of codon: \"))\n",
    "    print()\n",
    "    \n",
    "    translate_codon = dna_seq[start-1:end]\n",
    "    \n",
    "    amino_sequence = \"\"\n",
    "    \n",
    "    for ind in range(0,len(translate_codon),3):\n",
    "        \n",
    "        codon = translate_codon[ind:ind+3]\n",
    "        amino = lookup_table(codon)\n",
    "        \n",
    "        if amino != \"_\":\n",
    "            amino_sequence += amino\n",
    "        \n",
    "    return amino_sequence"
   ]
  },
  {
   "cell_type": "markdown",
   "id": "fb6a191f",
   "metadata": {},
   "source": [
    "To validate the functionality of the `translate` function, the returned value from the function is compared with the actual value of the protein sequence.\n",
    "Before comparison, the protein sequence undergoes modification as a result of being passed through the `read_sequence` function to ensure uniform preprocessing."
   ]
  },
  {
   "cell_type": "code",
   "execution_count": 18,
   "id": "457f52f3",
   "metadata": {},
   "outputs": [
    {
     "name": "stdout",
     "output_type": "stream",
     "text": [
      "\n"
     ]
    },
    {
     "data": {
      "text/plain": [
       "True"
      ]
     },
     "execution_count": 18,
     "metadata": {},
     "output_type": "execute_result"
    }
   ],
   "source": [
    "translate(dna_file_path) == read_sequence(protein_file_path)"
   ]
  },
  {
   "cell_type": "code",
   "execution_count": 19,
   "id": "df117e2d",
   "metadata": {},
   "outputs": [
    {
     "name": "stdout",
     "output_type": "stream",
     "text": [
      "\n",
      "MSTHDTSLKTTEEVAFQIILLCQFGVGTFANVFLFVYNFSPISTGSKQRPRQVILRHMAVANALTLFLTIFPNNMMTFAPIIPQTDLKCKLEFFTRLVARSTNLCSTCVLSIHQFVTLVPVNSGKGILRASVTNMASYSCYSCWFFSVLNNIYIPIKVTGPQLTDNNNNSKSKLFCSTSDFSVGIVFLRFAHDATFMSIMVWTSVSMVLLLHRHCQRMQYIFTLNQDPRGQAETTATHTILMLVVTFVGFYLLSLICIIFYTYFIYSHHSLRHCNDILVSGFPTISPLLLTFRDPKGPCSVFFNC\n"
     ]
    }
   ],
   "source": [
    "print(translate(dna_file_path))"
   ]
  },
  {
   "cell_type": "code",
   "execution_count": 20,
   "id": "cea39ac1",
   "metadata": {},
   "outputs": [
    {
     "name": "stdout",
     "output_type": "stream",
     "text": [
      "MSTHDTSLKTTEEVAFQIILLCQFGVGTFANVFLFVYNFSPISTGSKQRPRQVILRHMAVANALTLFLTIFPNNMMTFAPIIPQTDLKCKLEFFTRLVARSTNLCSTCVLSIHQFVTLVPVNSGKGILRASVTNMASYSCYSCWFFSVLNNIYIPIKVTGPQLTDNNNNSKSKLFCSTSDFSVGIVFLRFAHDATFMSIMVWTSVSMVLLLHRHCQRMQYIFTLNQDPRGQAETTATHTILMLVVTFVGFYLLSLICIIFYTYFIYSHHSLRHCNDILVSGFPTISPLLLTFRDPKGPCSVFFNC\n"
     ]
    }
   ],
   "source": [
    "print(read_sequence(protein_file_path))"
   ]
  },
  {
   "cell_type": "markdown",
   "id": "064ed8b0",
   "metadata": {},
   "source": [
    "## Conclusion\n",
    "---\n",
    "\n",
    "This case study presented a comprehensive approach to translating a DNA sequence into it's corresponding protein sequence using Python.\n",
    "\n",
    "Three key functions were developed:\n",
    "\n",
    "- The `read_sequence` function effectively preprocessed the input file, removing newline and carriage return characters to ensure accuracte and consistent data handling.\n",
    "- The `lookup_table` function utilized a genetic code lookup table (dictionary) to map DNA codons to their respective amino acids, enabling effective translation.\n",
    "- The `translate` function successfully converted the specified DNA codon range into a protein sequence by utilizing the two previous functions.\n",
    "\n",
    "Through this case study, I gained valuable insights into the translation of genetic information, aligning the NCBI start codon index with Python's indexing, and ensuring the accurate protein sequence generation.\n",
    "\n",
    "The implementation of these functions offers a practical solution for DNA-to-Protein Translation, provding a valuable tool for exploring genetic information and its impact on living organisms.\n",
    "\n",
    "---"
   ]
  }
 ],
 "metadata": {
  "kernelspec": {
   "display_name": "Python 3 (ipykernel)",
   "language": "python",
   "name": "python3"
  },
  "language_info": {
   "codemirror_mode": {
    "name": "ipython",
    "version": 3
   },
   "file_extension": ".py",
   "mimetype": "text/x-python",
   "name": "python",
   "nbconvert_exporter": "python",
   "pygments_lexer": "ipython3",
   "version": "3.9.17"
  }
 },
 "nbformat": 4,
 "nbformat_minor": 5
}
