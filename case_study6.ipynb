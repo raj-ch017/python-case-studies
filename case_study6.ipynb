{
 "cells": [
  {
   "cell_type": "markdown",
   "metadata": {},
   "source": [
    "# Deep Dive into Network Analysis and Social Relationships\n",
    "---\n",
    "\n",
    "This case study centers around the intricate study of complex systems prevalent in both scientific and societal domains. These systems are characterized by numerous independent components, which can be effectively portrayed as networks. Within these networks, nodes symbolize indivdual components, while edges signify the interactions connecting them.\n",
    "\n",
    "The utility of network analysis extends to a diverse range of applications, including the examination of pathogen diffusion, behavioral dynamics, and information dissemination within social networks. Moreover, the scope of network analysis expands to encompass biological scenarios, particularly at the molecular level. This entails the exploration of gene regulation networks, signal transduction networks, protein interaction networks, and other connected systems.\n",
    "\n",
    "Homophily represents a characteristic of networks in which nodes that are adjacent in a network tend to share a certain attribute more frequently than nodes that are not neighbors. This case study focuses on examining the presence of homophily in various attributes among individuals connected within social networks located in rural India."
   ]
  },
  {
   "cell_type": "markdown",
   "metadata": {},
   "source": [
    "## Task Description\n",
    "---\n",
    "\n",
    "- Analyze homophily within network structures of rural villages.\n",
    "- Investigate the impact of various characteristics (such as religion, sex, caste) on social interactions.\n",
    "- Utilize data analysis and network analysis techniques to quantify and compare observed homophily with chance homophily.\n",
    "- Explore the impactions of homophily in the context of village communities."
   ]
  },
  {
   "cell_type": "markdown",
   "metadata": {},
   "source": [
    "### Task 1\n",
    "---\n",
    "\n",
    "The goal is to calculate the chance homophily for a specific characteristic within the provided sample data.\n",
    "\n",
    "- Creating a function that takes in a dictionary and calculates marginal probability which is the frequency of occurrence of a characteristic divided by the sum of frequencies of all characteristics.\n",
    "\n",
    "- Creating a function that calculates the chance homophily by summing the squares of the marginal probabilities."
   ]
  },
  {
   "cell_type": "code",
   "execution_count": 1,
   "metadata": {},
   "outputs": [],
   "source": [
    "from collections import Counter\n",
    "import numpy as np"
   ]
  },
  {
   "cell_type": "markdown",
   "metadata": {},
   "source": [
    "### Calculating Marginal Probability\n",
    "---\n",
    "\n",
    "This function takes a dictionary named `chars` as input, where keys are personal IDs and values are characteristics. It calculates and returns a dictionary where characteristics are keys and their marginal probability as corresponding values."
   ]
  },
  {
   "cell_type": "code",
   "execution_count": 2,
   "metadata": {},
   "outputs": [],
   "source": [
    "def marginal_prob(chars):\n",
    "    \"\"\" \n",
    "    Calculate the marginal probability of characteristics in a network.\n",
    "\n",
    "    Inputs:\n",
    "        chars (dict): A dictionary consisting of IDs as keys and \n",
    "        characteristics as values\n",
    "\n",
    "    Returns \n",
    "        out_dict (dict): A dictionary where characteristics are keys \n",
    "        and their marginal probability as values\n",
    "    \"\"\"\n",
    "\n",
    "    out_dict = {}\n",
    "    char_list = list(chars.values())\n",
    "\n",
    "    for node in chars:\n",
    "\n",
    "        a_char = chars[node]\n",
    "        prob = char_list.count(a_char) / len(char_list)\n",
    "        out_dict[a_char] = prob\n",
    "\n",
    "    return out_dict\n"
   ]
  },
  {
   "cell_type": "markdown",
   "metadata": {},
   "source": [
    "### Calculating Chance Homophily\n",
    "---\n",
    "\n",
    "This function takes a dictionary named `chars` as inpur and uses the `marginal_prob` function to calculate the marginal probabilities of characteristics. It calculates the chance homophily for the characteristics."
   ]
  },
  {
   "cell_type": "code",
   "execution_count": 3,
   "metadata": {},
   "outputs": [],
   "source": [
    "def chance_homophily(chars):\n",
    "    \"\"\"  \n",
    "    The function takes in a dictionary consisting of IDs as keys\n",
    "    and characteristics as values.\n",
    "    \n",
    "    It calculates the chance homophily for each characteristic\n",
    "    in a network.\n",
    "\n",
    "    Inputs:\n",
    "        chars (dict): A dictionary consists of IDs as keys and \n",
    "        characteristics as values\n",
    "\n",
    "    Returns:\n",
    "        float: Calculated chance homophily for the given characteristics\n",
    "    \"\"\"\n",
    "    \n",
    "    marginal_prob_dict = marginal_prob(chars)\n",
    "\n",
    "    output_val = 0\n",
    "\n",
    "    for char in marginal_prob_dict:\n",
    "\n",
    "        output_val += (marginal_prob_dict[char] ** 2)\n",
    "\n",
    "    return output_val"
   ]
  },
  {
   "cell_type": "code",
   "execution_count": 4,
   "metadata": {},
   "outputs": [
    {
     "name": "stdout",
     "output_type": "stream",
     "text": [
      "{'burger': 0.4, 'chicken wings': 0.2, 'milkshake': 0.4}\n",
      "0.3600000000000001\n"
     ]
    }
   ],
   "source": [
    "favorite_food = {\n",
    "    \"Person A\":  \"burger\",\n",
    "    \"Person B\": \"chicken wings\",\n",
    "    \"Person C\":   \"milkshake\",\n",
    "    \"Person D\": \"burger\",\n",
    "    \"Person E\": \"milkshake\"\n",
    "}\n",
    "\n",
    "\n",
    "print(marginal_prob(favorite_food))\n",
    "food_homophily = chance_homophily(favorite_food)\n",
    "print(food_homophily)"
   ]
  },
  {
   "cell_type": "code",
   "execution_count": 5,
   "metadata": {},
   "outputs": [],
   "source": [
    "import os "
   ]
  },
  {
   "cell_type": "code",
   "execution_count": 6,
   "metadata": {},
   "outputs": [],
   "source": [
    "relative_path = \"./\""
   ]
  },
  {
   "cell_type": "code",
   "execution_count": 7,
   "metadata": {},
   "outputs": [],
   "source": [
    "data_file = os.path.join(relative_path,\"individual_characteristics.csv\")"
   ]
  },
  {
   "cell_type": "code",
   "execution_count": 8,
   "metadata": {},
   "outputs": [],
   "source": [
    "import pandas as pd"
   ]
  },
  {
   "cell_type": "code",
   "execution_count": 9,
   "metadata": {},
   "outputs": [],
   "source": [
    "df = pd.read_csv(data_file, low_memory= False, index_col=0)"
   ]
  },
  {
   "cell_type": "code",
   "execution_count": 10,
   "metadata": {},
   "outputs": [
    {
     "data": {
      "text/html": [
       "<div>\n",
       "<style scoped>\n",
       "    .dataframe tbody tr th:only-of-type {\n",
       "        vertical-align: middle;\n",
       "    }\n",
       "\n",
       "    .dataframe tbody tr th {\n",
       "        vertical-align: top;\n",
       "    }\n",
       "\n",
       "    .dataframe thead th {\n",
       "        text-align: right;\n",
       "    }\n",
       "</style>\n",
       "<table border=\"1\" class=\"dataframe\">\n",
       "  <thead>\n",
       "    <tr style=\"text-align: right;\">\n",
       "      <th></th>\n",
       "      <th>Unnamed: 1</th>\n",
       "      <th>village</th>\n",
       "      <th>adjmatrix_key</th>\n",
       "      <th>pid</th>\n",
       "      <th>hhid</th>\n",
       "      <th>resp_id</th>\n",
       "      <th>resp_gend</th>\n",
       "      <th>resp_status</th>\n",
       "      <th>age</th>\n",
       "      <th>religion</th>\n",
       "      <th>...</th>\n",
       "      <th>privategovt</th>\n",
       "      <th>work_outside</th>\n",
       "      <th>work_outside_freq</th>\n",
       "      <th>shgparticipate</th>\n",
       "      <th>shg_no</th>\n",
       "      <th>savings</th>\n",
       "      <th>savings_no</th>\n",
       "      <th>electioncard</th>\n",
       "      <th>rationcard</th>\n",
       "      <th>rationcard_colour</th>\n",
       "    </tr>\n",
       "  </thead>\n",
       "  <tbody>\n",
       "    <tr>\n",
       "      <th>NaN</th>\n",
       "      <td>0</td>\n",
       "      <td>1</td>\n",
       "      <td>5</td>\n",
       "      <td>100201</td>\n",
       "      <td>1002</td>\n",
       "      <td>1</td>\n",
       "      <td>1</td>\n",
       "      <td>Head of Household</td>\n",
       "      <td>38</td>\n",
       "      <td>HINDUISM</td>\n",
       "      <td>...</td>\n",
       "      <td>PRIVATE BUSINESS</td>\n",
       "      <td>Yes</td>\n",
       "      <td>0.0</td>\n",
       "      <td>No</td>\n",
       "      <td>NaN</td>\n",
       "      <td>No</td>\n",
       "      <td>NaN</td>\n",
       "      <td>Yes</td>\n",
       "      <td>Yes</td>\n",
       "      <td>GREEN</td>\n",
       "    </tr>\n",
       "    <tr>\n",
       "      <th>NaN</th>\n",
       "      <td>1</td>\n",
       "      <td>1</td>\n",
       "      <td>6</td>\n",
       "      <td>100202</td>\n",
       "      <td>1002</td>\n",
       "      <td>2</td>\n",
       "      <td>2</td>\n",
       "      <td>Spouse of Head of Household</td>\n",
       "      <td>27</td>\n",
       "      <td>HINDUISM</td>\n",
       "      <td>...</td>\n",
       "      <td>NaN</td>\n",
       "      <td>NaN</td>\n",
       "      <td>NaN</td>\n",
       "      <td>No</td>\n",
       "      <td>NaN</td>\n",
       "      <td>No</td>\n",
       "      <td>NaN</td>\n",
       "      <td>Yes</td>\n",
       "      <td>Yes</td>\n",
       "      <td>GREEN</td>\n",
       "    </tr>\n",
       "    <tr>\n",
       "      <th>NaN</th>\n",
       "      <td>2</td>\n",
       "      <td>1</td>\n",
       "      <td>23</td>\n",
       "      <td>100601</td>\n",
       "      <td>1006</td>\n",
       "      <td>1</td>\n",
       "      <td>1</td>\n",
       "      <td>Head of Household</td>\n",
       "      <td>29</td>\n",
       "      <td>HINDUISM</td>\n",
       "      <td>...</td>\n",
       "      <td>OTHER LAND</td>\n",
       "      <td>No</td>\n",
       "      <td>NaN</td>\n",
       "      <td>No</td>\n",
       "      <td>NaN</td>\n",
       "      <td>No</td>\n",
       "      <td>NaN</td>\n",
       "      <td>Yes</td>\n",
       "      <td>Yes</td>\n",
       "      <td>GREEN</td>\n",
       "    </tr>\n",
       "    <tr>\n",
       "      <th>NaN</th>\n",
       "      <td>3</td>\n",
       "      <td>1</td>\n",
       "      <td>24</td>\n",
       "      <td>100602</td>\n",
       "      <td>1006</td>\n",
       "      <td>2</td>\n",
       "      <td>2</td>\n",
       "      <td>Spouse of Head of Household</td>\n",
       "      <td>24</td>\n",
       "      <td>HINDUISM</td>\n",
       "      <td>...</td>\n",
       "      <td>PRIVATE BUSINESS</td>\n",
       "      <td>No</td>\n",
       "      <td>NaN</td>\n",
       "      <td>Yes</td>\n",
       "      <td>1.0</td>\n",
       "      <td>Yes</td>\n",
       "      <td>1.0</td>\n",
       "      <td>Yes</td>\n",
       "      <td>No</td>\n",
       "      <td>NaN</td>\n",
       "    </tr>\n",
       "    <tr>\n",
       "      <th>NaN</th>\n",
       "      <td>4</td>\n",
       "      <td>1</td>\n",
       "      <td>27</td>\n",
       "      <td>100701</td>\n",
       "      <td>1007</td>\n",
       "      <td>1</td>\n",
       "      <td>1</td>\n",
       "      <td>Head of Household</td>\n",
       "      <td>58</td>\n",
       "      <td>HINDUISM</td>\n",
       "      <td>...</td>\n",
       "      <td>OTHER LAND</td>\n",
       "      <td>No</td>\n",
       "      <td>NaN</td>\n",
       "      <td>No</td>\n",
       "      <td>NaN</td>\n",
       "      <td>No</td>\n",
       "      <td>NaN</td>\n",
       "      <td>Yes</td>\n",
       "      <td>Yes</td>\n",
       "      <td>GREEN</td>\n",
       "    </tr>\n",
       "  </tbody>\n",
       "</table>\n",
       "<p>5 rows × 49 columns</p>\n",
       "</div>"
      ],
      "text/plain": [
       "     Unnamed: 1  village  adjmatrix_key     pid  hhid  resp_id  resp_gend  \\\n",
       "NaN           0        1              5  100201  1002        1          1   \n",
       "NaN           1        1              6  100202  1002        2          2   \n",
       "NaN           2        1             23  100601  1006        1          1   \n",
       "NaN           3        1             24  100602  1006        2          2   \n",
       "NaN           4        1             27  100701  1007        1          1   \n",
       "\n",
       "                     resp_status  age  religion  ...       privategovt  \\\n",
       "NaN            Head of Household   38  HINDUISM  ...  PRIVATE BUSINESS   \n",
       "NaN  Spouse of Head of Household   27  HINDUISM  ...               NaN   \n",
       "NaN            Head of Household   29  HINDUISM  ...        OTHER LAND   \n",
       "NaN  Spouse of Head of Household   24  HINDUISM  ...  PRIVATE BUSINESS   \n",
       "NaN            Head of Household   58  HINDUISM  ...        OTHER LAND   \n",
       "\n",
       "    work_outside work_outside_freq shgparticipate shg_no savings savings_no  \\\n",
       "NaN          Yes               0.0             No    NaN      No        NaN   \n",
       "NaN          NaN               NaN             No    NaN      No        NaN   \n",
       "NaN           No               NaN             No    NaN      No        NaN   \n",
       "NaN           No               NaN            Yes    1.0     Yes        1.0   \n",
       "NaN           No               NaN             No    NaN      No        NaN   \n",
       "\n",
       "    electioncard rationcard rationcard_colour  \n",
       "NaN          Yes        Yes             GREEN  \n",
       "NaN          Yes        Yes             GREEN  \n",
       "NaN          Yes        Yes             GREEN  \n",
       "NaN          Yes         No               NaN  \n",
       "NaN          Yes        Yes             GREEN  \n",
       "\n",
       "[5 rows x 49 columns]"
      ]
     },
     "execution_count": 10,
     "metadata": {},
     "output_type": "execute_result"
    }
   ],
   "source": [
    "df.head()"
   ]
  },
  {
   "cell_type": "markdown",
   "metadata": {},
   "source": [
    "### Task 2 \n",
    "---\n",
    "\n",
    "The `individual_characteristics.csv` file contains several characteristics for each individual in the dataset such as age, caste and religion.\n",
    "\n",
    "- Storing seperate datasets for individuals belonging to `Village 1` and `Village 2`."
   ]
  },
  {
   "cell_type": "code",
   "execution_count": 11,
   "metadata": {},
   "outputs": [],
   "source": [
    "# creating the dataset for village 1\n",
    "df1 = df[df['village'] == 1]"
   ]
  },
  {
   "cell_type": "code",
   "execution_count": 12,
   "metadata": {},
   "outputs": [],
   "source": [
    "# creating the dataset for village 2\n",
    "df2 = df[df['village'] == 2]"
   ]
  },
  {
   "cell_type": "markdown",
   "metadata": {},
   "source": [
    "### Task 3\n",
    "---\n",
    "\n",
    "To help in data retrieval and analysis, dictionaries are created that map personal IDs to specific covariates for members of Village 1 and 2. \n",
    "\n",
    "- Defining dictionaries where personal IDs are the keys and the corresponding covariates (sex, caste, religion) are the values.\n",
    "\n",
    "For village 1, these dictionaries are stored using the variable names `sex1`, `caste1` and `religion1`. For village 2, these dictionaries are stored using the variable names `sex2`, `caste2` and `religion2`."
   ]
  },
  {
   "cell_type": "code",
   "execution_count": 13,
   "metadata": {},
   "outputs": [],
   "source": [
    "sex1      = {}\n",
    "caste1    = {}\n",
    "religion1 = {}"
   ]
  },
  {
   "cell_type": "code",
   "execution_count": 14,
   "metadata": {},
   "outputs": [],
   "source": [
    "for df1_ind in range(len(df1)):\n",
    "\n",
    "    particular_person = df1.iloc[df1_ind,:]\n",
    "\n",
    "    sex1[particular_person['pid']] = particular_person['resp_gend']\n",
    "    caste1[particular_person['pid']] = particular_person['caste']\n",
    "    religion1[particular_person['pid']] = particular_person['religion']"
   ]
  },
  {
   "cell_type": "code",
   "execution_count": 15,
   "metadata": {},
   "outputs": [
    {
     "data": {
      "text/plain": [
       "{'GENERAL', 'OBC', 'SCHEDULED CASTE', 'SCHEDULED TRIBE'}"
      ]
     },
     "execution_count": 15,
     "metadata": {},
     "output_type": "execute_result"
    }
   ],
   "source": [
    "set(caste1.values())"
   ]
  },
  {
   "cell_type": "code",
   "execution_count": 16,
   "metadata": {},
   "outputs": [],
   "source": [
    "sex2 = {}\n",
    "caste2 = {}\n",
    "religion2 = {}"
   ]
  },
  {
   "cell_type": "code",
   "execution_count": 17,
   "metadata": {},
   "outputs": [],
   "source": [
    "for df2_ind in range(len(df2)):\n",
    "\n",
    "    particular_person = df2.iloc[df2_ind,:]\n",
    "\n",
    "    sex2[particular_person['pid']] = particular_person['resp_gend']\n",
    "    caste2[particular_person['pid']] = particular_person['caste']\n",
    "    religion2[particular_person['pid']] = particular_person['religion']"
   ]
  },
  {
   "cell_type": "markdown",
   "metadata": {},
   "source": [
    "### Task 4\n",
    "---\n",
    "\n",
    "Calculating the chance homophily for different characteristics within Villages 1 and 2.\n",
    "\n",
    "- Utilizing the `chance_homophily` function to calculate the chance homophily for the attributes of sex, caste and religion for both villages 1 and villages 2."
   ]
  },
  {
   "cell_type": "code",
   "execution_count": 18,
   "metadata": {},
   "outputs": [
    {
     "name": "stdout",
     "output_type": "stream",
     "text": [
      "Chance for Sex in Village 1: 0.503\n",
      "Chance for Caste in Village 1: 0.674\n",
      "Chance for Religion in Village 1: 0.98\n"
     ]
    }
   ],
   "source": [
    "dict1 = {'Sex': sex1, 'Caste': caste1, 'Religion': religion1}\n",
    "\n",
    "for covariate in dict1:\n",
    "\n",
    "    chance = chance_homophily(dict1[covariate])\n",
    "\n",
    "    print(\"Chance for {} in Village 1: {}\".format(covariate,round(chance,3)))"
   ]
  },
  {
   "cell_type": "code",
   "execution_count": 19,
   "metadata": {},
   "outputs": [
    {
     "name": "stdout",
     "output_type": "stream",
     "text": [
      "Chance for Sex in Village 2: 0.501\n",
      "Chance for Caste in Village 2: 0.425\n",
      "Chance for Religion in Village 2: 1.0\n"
     ]
    }
   ],
   "source": [
    "dict2 = {'Sex': sex2, 'Caste': caste2, 'Religion': religion2}\n",
    "\n",
    "for covariate in dict2:\n",
    "\n",
    "    chance = chance_homophily(dict2[covariate])\n",
    "\n",
    "    print(\"Chance for {} in Village 2: {}\".format(covariate,round(chance,3)))"
   ]
  },
  {
   "cell_type": "markdown",
   "metadata": {},
   "source": [
    "### Task 5 \n",
    "---\n",
    "\n",
    "Measuring the homophily of characteristics within given network.\n",
    "\n",
    "- Creating a function named `homophily()` that takes three inputs: a network `G`, a dictionary of node characteristics `chars` and a list of node IDs `IDs`\n",
    "\n",
    "- The function keeps track of two counters: `num_ties`  to count the total number of ties between node pairs and `num_same_ties` to count the number of ties where nodes share the same characteristics\n",
    "\n",
    "- Calculating the ratio of `num_same_ties` to `num_ties` to determine the homophily of characteristics in network `G`"
   ]
  },
  {
   "cell_type": "code",
   "execution_count": 29,
   "metadata": {},
   "outputs": [],
   "source": [
    "def homophily(G, chars, IDs):\n",
    "    \"\"\"\n",
    "    Calculate the homophily of characteristics in a network.\n",
    "\n",
    "    Inputs:\n",
    "        G (networkx.Graph): The network graph\n",
    "        chars (dict): A dictionary of node characteristics for node IDs\n",
    "        IDs (dict): A dictionary of node IDs for each node in the network\n",
    "\n",
    "    Returns:\n",
    "        float: The homophily of the network\n",
    "    \"\"\"\n",
    "\n",
    "    # Initializing counters for same and total ties\n",
    "    num_same_ties = 0\n",
    "    num_ties = 0\n",
    "\n",
    "    # Iterating through all edges in the network\n",
    "    for node1, node2 in G.edges():\n",
    "\n",
    "        # Check if both nodes have corresponding characteristics\n",
    "        if IDs[node1] in chars and IDs[node2] in chars:\n",
    "\n",
    "            # Check if an edge exits between the two nodes\n",
    "            if G.has_edge(node1, node2):\n",
    "                \n",
    "                # Increment total ties count\n",
    "                num_ties += 1\n",
    "\n",
    "                # Check if nodes share the same characteristics\n",
    "                if chars[IDs[node1]] == chars[IDs[node2]]:\n",
    "\n",
    "                    # Increment same ties count\n",
    "                    num_same_ties += 1\n",
    "                    \n",
    "        # Calculating and returning homophilyas the ratio of same ties to total ties\n",
    "    if num_ties == 0:\n",
    "        return 0.0\n",
    "    else:\n",
    "        return (num_same_ties / num_ties)    "
   ]
  },
  {
   "cell_type": "markdown",
   "metadata": {},
   "source": [
    "### Task 6\n",
    "---\n",
    "\n",
    "Retrieving the personal IDs for villages 1 and 2.\n",
    "\n",
    "- Using the `pd.read_csv` function to read and store the contents of `village1_id` as `pid1` and `village2_id` as `pid2`. These variables hold the personal IDs for villages 1 and 2."
   ]
  },
  {
   "cell_type": "code",
   "execution_count": 21,
   "metadata": {},
   "outputs": [],
   "source": [
    "# loading ids for village 1\n",
    "village1_file = os.path.join(relative_path, 'village1_id.csv')\n",
    "pid1 = pd.read_csv(village1_file, dtype=int)['0'].to_dict()\n",
    "\n",
    "# loading ids for village 2\n",
    "village2_file = os.path.join(relative_path, 'village2_id.csv')\n",
    "pid2 = pd.read_csv(village2_file, dtype=int)['0'].to_dict()"
   ]
  },
  {
   "cell_type": "markdown",
   "metadata": {},
   "source": [
    "### Task 7\n",
    "---\n",
    "\n",
    "Calculating the homophily of various network characteristics for Villages 1 and 2. The graph objects `G1` and `G2` represent the networks of these villages.\n",
    "\n",
    "- Utilizing the `homophily()` function to calculate the observed homophily for the characteristics of sex, caste and religion in Villages 1 and 2, printing all six resulting values\n",
    "\n",
    "- Employing the `chance_homophily()` function to calculate the chance homophily for the same characteristics"
   ]
  },
  {
   "cell_type": "code",
   "execution_count": 22,
   "metadata": {},
   "outputs": [],
   "source": [
    "import networkx as nx "
   ]
  },
  {
   "cell_type": "markdown",
   "metadata": {},
   "source": [
    "- Reading adjacency matrices: The code below first reads the adjacency matrices of shared characteristics for each village. These matrices represent the connections or relationships between villagers based on shared characteristics\n",
    "\n",
    "- Converting to numpy arrays: Coverting the read CSV data into numpy arrays\n",
    "\n",
    "- Creating Networkx Graphs: The numpy arrays obtained from the adjacency matrices are then converted into networkx graph objects using the `nx.to_networkx_graph()` function. The function takes the adjacency matrix as input and constructs a graph object where nodes represent villagers, and edges represent connections between villagers based on the shared characteristics indicated by the adjacency matrix"
   ]
  },
  {
   "cell_type": "code",
   "execution_count": 36,
   "metadata": {},
   "outputs": [],
   "source": [
    "# Graph of village 1\n",
    "village1_relations = os.path.join(relative_path, 'village1_relations.csv')\n",
    "A1 = np.array(pd.read_csv(village1_relations, index_col=0))\n",
    "G1 = nx.to_networkx_graph(A1)\n",
    "\n",
    "# Graph of village 2\n",
    "village2_relations = os.path.join(relative_path, 'village2_relations.csv')\n",
    "A2 = np.array(pd.read_csv(village2_relations, index_col=0))\n",
    "G2 = nx.to_networkx_graph(A2)"
   ]
  },
  {
   "cell_type": "code",
   "execution_count": 37,
   "metadata": {},
   "outputs": [
    {
     "name": "stdout",
     "output_type": "stream",
     "text": [
      "Chance for Sex in Village 1: 0.5027299861680701\n",
      "Observed for Sex in Village 1: 0.6524390243902439\n",
      "\n",
      "Chance for Caste in Village 1: 0.6741488509791551\n",
      "Observed for Caste in Village 1: 0.7865853658536586\n",
      "\n",
      "Chance for Religion in Village 1: 0.9804896988521925\n",
      "Observed for Religion in Village 1: 0.991869918699187\n",
      "\n"
     ]
    }
   ],
   "source": [
    "dict1 = {'Sex': sex1, 'Caste': caste1, 'Religion': religion1}\n",
    "\n",
    "for covariate_vil1 in dict1:\n",
    "\n",
    "    chance = chance_homophily(dict1[covariate_vil1])\n",
    "    actual = homophily(G1, dict1[covariate_vil1], pid1)\n",
    "\n",
    "    print(\"Chance for {} in Village 1: {}\".format(covariate_vil1,chance))\n",
    "    print(\"Observed for {} in Village 1: {}\".format(covariate_vil1,actual),end=\"\\n\\n\")"
   ]
  },
  {
   "cell_type": "code",
   "execution_count": 45,
   "metadata": {},
   "outputs": [],
   "source": [
    "G2.remove_node(877)"
   ]
  },
  {
   "cell_type": "code",
   "execution_count": 46,
   "metadata": {},
   "outputs": [
    {
     "name": "stdout",
     "output_type": "stream",
     "text": [
      "Chance for Sex in Village 2: 0.5005945303210464\n",
      "Observed for Sex in Village 2: 0.5879556259904913\n",
      "\n",
      "Chance for Caste in Village 2: 0.425368244800893\n",
      "Observed for Caste in Village 2: 0.716323296354992\n",
      "\n",
      "Chance for Religion in Village 2: 1.0\n",
      "Observed for Religion in Village 2: 1.0\n",
      "\n"
     ]
    }
   ],
   "source": [
    "dict2 = {'Sex': sex2, 'Caste': caste2, 'Religion': religion2}\n",
    "\n",
    "for covariate_vil2 in dict2:\n",
    "\n",
    "    chance = chance_homophily(dict2[covariate_vil2])\n",
    "    actual = homophily(G2, dict2[covariate_vil2], pid2)\n",
    "\n",
    "    print(\"Chance for {} in Village 2: {}\".format(covariate_vil2,chance))\n",
    "    print(\"Observed for {} in Village 2: {}\".format(covariate_vil2,actual),end=\"\\n\\n\")"
   ]
  },
  {
   "cell_type": "markdown",
   "metadata": {},
   "source": [
    "A higher observed homophily value compared to the chance homophily value indicates that there is a stronger tendency for nodes with the same characteristics to be connected in the network than would be expected by random chance. In other words, it suggests that there is a significant level of similarity or homogeneity in terms of the studied characteristic among connected nodes.\n",
    "\n",
    "In the village setting, a higher observed homophily value implies that individuals within the village who share the same characteristics (such as religion or sex) are more likely to interact or be connected to each other.\n",
    "\n",
    "- `Religion`: Observed homophily being higher suggests that individuals who share the same religious belief are more likely to have social interactions or connections within the village. This could reflect a strong sense of community or social bonds among people of the same religious group.\n",
    "\n",
    "- `Sex`: Higher observed homophily could indicate individuals of the same gender tend to interact more frequently or form connections within the village. This could be due to shared activities, interests, or social norms that contribute to gender-based interactions.\n",
    "\n",
    "These results suggest that social interactions within the village are not purely random but influenced by common characteristics. This information provides insights into social dynamics, community structures and potental factors shaping relationships within the village."
   ]
  },
  {
   "cell_type": "markdown",
   "metadata": {},
   "source": [
    "---"
   ]
  }
 ],
 "metadata": {
  "kernelspec": {
   "display_name": "base",
   "language": "python",
   "name": "python3"
  },
  "language_info": {
   "codemirror_mode": {
    "name": "ipython",
    "version": 3
   },
   "file_extension": ".py",
   "mimetype": "text/x-python",
   "name": "python",
   "nbconvert_exporter": "python",
   "pygments_lexer": "ipython3",
   "version": "3.9.17"
  },
  "orig_nbformat": 4
 },
 "nbformat": 4,
 "nbformat_minor": 2
}
