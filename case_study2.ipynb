{
 "cells": [
  {
   "cell_type": "markdown",
   "id": "579b62e5",
   "metadata": {},
   "source": [
    "# Linguistic Analysis of Books: A Study of Language Variability\n",
    "---\n",
    "\n",
    "Patterns within written text are not the same across all authors or languages. This allows linguists to study the language of origin.\n",
    "\n",
    "This study aims to explore the attributes of individual books within a collection encompassing diverse authors and languages. Specifically, the focus is on analyzing book lengths, quantifying unique word counts and investigating potential clustering patterns based on either languages or authorship.\n",
    "\n",
    "- The collection for this study consists of four languages: `English`, `French`, `German` and `Portuguese`.\n",
    "\n",
    "- For each langauge, we have from one to four authors each, `13` authors in total.\n",
    "\n",
    "- For each author, we have from one to sixteen book, `102` books in total.\n",
    "\n",
    "Some authors have appeared in several language categories because their books are available as translations in several languages."
   ]
  },
  {
   "cell_type": "markdown",
   "id": "7ea30570",
   "metadata": {},
   "source": [
    "## Task Description\n",
    "---\n",
    "\n",
    "**Task 1 - Writing the Function** \n",
    "- **Description**: A function that takes string of text as input and counts the number of times each unique word appears.\n",
    "\n",
    "**Task 2 - Word Frequency Distribution Analysis**\n",
    "- **Description**: Process the text data from various translations to determine the frequency of occurrence for each individual word.\n",
    "\n",
    "**Task 3 - Summary Statistics**\n",
    "- **Description**: Computing the summary statistical measures, including mean word lengths for different translation.\n",
    "\n",
    "**Task 4 - Data Visualization**\n",
    "- **Description**: Generating visually informative representations to convey distribution of word frequencies."
   ]
  },
  {
   "cell_type": "markdown",
   "id": "16801670",
   "metadata": {},
   "source": [
    "The best way to keep track of these words will be to associate each word with a counter. This can be done by using dictionaries. The keys will be words of type `string` containing the input text, and the values are `int` that indicate how many times each word appears in the text.\n",
    "\n",
    "Initially, a test string named `text` is generated to evaluate the function's functionality during its development."
   ]
  },
  {
   "cell_type": "code",
   "execution_count": 1,
   "id": "1767a0fc",
   "metadata": {},
   "outputs": [],
   "source": [
    "text = \"This is my test text. We are keeping this text short to keep things manageable.\""
   ]
  },
  {
   "cell_type": "code",
   "execution_count": 2,
   "id": "c6fa89cf",
   "metadata": {},
   "outputs": [
    {
     "data": {
      "text/plain": [
       "['This',\n",
       " 'is',\n",
       " 'my',\n",
       " 'test',\n",
       " 'text.',\n",
       " 'We',\n",
       " 'are',\n",
       " 'keeping',\n",
       " 'this',\n",
       " 'text',\n",
       " 'short',\n",
       " 'to',\n",
       " 'keep',\n",
       " 'things',\n",
       " 'manageable.']"
      ]
     },
     "execution_count": 2,
     "metadata": {},
     "output_type": "execute_result"
    }
   ],
   "source": [
    "word_list = list(text.split())\n",
    "\n",
    "word_list"
   ]
  },
  {
   "cell_type": "markdown",
   "id": "fd75fd72",
   "metadata": {},
   "source": [
    "When counting the number of unique words in a string, it is important to consider the following factors:\n",
    "\n",
    "- The presence of punctuation, such as full stops, as part of the word may result in an inflated word count. **For instance**, a word occuring in the middle of a sentence is counted seperately when it reappears at the end of a sentence, followed by a full stop.\n",
    "\n",
    "- Words at the beginning of sentences are capitalized, leading to the double counting of some words. As a result, words with both capitalized and lowercase initial letters are perceived as distinct entities in the counting process.\n",
    "\n",
    "To address the issue of punctuation marks, a strategy can be implemented where specific punctuation marks to be excluded are specified. A loop is applied to the string, replacing each occurrence of a punctuation mark with an empty string. This approach ensures the exclusion of punctuations from the word counting process, allowing for accurate results.\n",
    "\n",
    "Additionally, convering the entire string to lowercase can be done using the `.lower()` method."
   ]
  },
  {
   "cell_type": "markdown",
   "id": "edcba1f5",
   "metadata": {},
   "source": [
    "## Functions\n",
    "---"
   ]
  },
  {
   "cell_type": "code",
   "execution_count": 3,
   "id": "f59a7f96",
   "metadata": {},
   "outputs": [],
   "source": [
    "def clean_string(input_string):\n",
    "    \"\"\"\n",
    "    The function takes in a string containing punctuation marks and returns the\n",
    "    modified string without any punctuations.\n",
    "    \n",
    "    Input\n",
    "        input_string (str) - string containing punctuations\n",
    "    \n",
    "    Return:\n",
    "        clean_string - string with punctuations replaced by empty string\n",
    "    \"\"\"\n",
    "    \n",
    "    check_list = [\",\",\".\",\";\",\":\",\"'\",'\"',\"!\",\"?\"]\n",
    "    clean_string = input_string.lower()\n",
    "    \n",
    "    for ch in check_list:\n",
    "        \n",
    "        clean_string = clean_string.replace(ch,\"\")\n",
    "        \n",
    "    return clean_string"
   ]
  },
  {
   "cell_type": "code",
   "execution_count": 4,
   "id": "224d3701",
   "metadata": {},
   "outputs": [
    {
     "name": "stdout",
     "output_type": "stream",
     "text": [
      "this is my test text we are keeping this text short to keep things manageable\n"
     ]
    }
   ],
   "source": [
    "print(clean_string(text))"
   ]
  },
  {
   "cell_type": "markdown",
   "id": "b94e7f8c",
   "metadata": {},
   "source": [
    "The `count_words` function takes an input string and processes it to create a dictionary representing the word occurrences."
   ]
  },
  {
   "cell_type": "code",
   "execution_count": 5,
   "id": "0a36b140",
   "metadata": {},
   "outputs": [],
   "source": [
    "def count_words(the_string):\n",
    "    \"\"\" \n",
    "    Count the number of times each word occurs in input string. \n",
    "    Returns a dictionary where keys are unique words and values are word counts.\n",
    "    \n",
    "    Inputs:\n",
    "        the_string (str): Input string\n",
    "        \n",
    "    Return:\n",
    "        word_count (dict): Dictionary of word count\n",
    "    \"\"\"\n",
    "    \n",
    "    word_count = {}\n",
    "    \n",
    "    working_string = clean_string(the_string)\n",
    "    word_list = working_string.split()\n",
    "    \n",
    "    for word in word_list:\n",
    "        \n",
    "        if word in word_count:\n",
    "            \n",
    "            word_count[word] += 1\n",
    "        \n",
    "        else:\n",
    "            \n",
    "            word_count[word] = 1\n",
    "            \n",
    "    return word_count"
   ]
  },
  {
   "cell_type": "markdown",
   "id": "2790d398",
   "metadata": {},
   "source": [
    "With the function successfully defined, it is now time to perform testing on the test string."
   ]
  },
  {
   "cell_type": "code",
   "execution_count": 6,
   "id": "e755fe5e",
   "metadata": {
    "scrolled": true
   },
   "outputs": [
    {
     "name": "stdout",
     "output_type": "stream",
     "text": [
      "Input: This is my test text. We are keeping this text short to keep things manageable.\n",
      "\n",
      "{'this': 2, 'is': 1, 'my': 1, 'test': 1, 'text': 2, 'we': 1, 'are': 1, 'keeping': 1, 'short': 1, 'to': 1, 'keep': 1, 'things': 1, 'manageable': 1}\n"
     ]
    }
   ],
   "source": [
    "print(\"Input: {}\\n\".format(text))\n",
    "print(count_words(text))"
   ]
  },
  {
   "cell_type": "markdown",
   "id": "c4a70a9b",
   "metadata": {},
   "source": [
    "Counting the frequency of objects is such a common operation that Python provides a `counter` tool, which has to be imported from the collection moddule.\n",
    "\n",
    "The object returned by counter behaves much like a dictionary, although its a subclass of the Python dictionary object."
   ]
  },
  {
   "cell_type": "markdown",
   "id": "eddf3882",
   "metadata": {},
   "source": [
    "The task of counting object frequencies is a frequent operation in Python, and to facilitate this, Python offers a `Counter` tool available in the `collections` module, which needs to be imported for usage.\n",
    "\n",
    "The `Counter` object returned by this tool closely resembles a dictionary in behavior, despite being a subclass of the Python dictionary object."
   ]
  },
  {
   "cell_type": "code",
   "execution_count": 7,
   "id": "de5b2acd",
   "metadata": {},
   "outputs": [],
   "source": [
    "from collections import Counter"
   ]
  },
  {
   "cell_type": "code",
   "execution_count": 8,
   "id": "42c32713",
   "metadata": {},
   "outputs": [],
   "source": [
    "def count_words_fast(the_string):\n",
    "    \"\"\"  \n",
    "    Count the occurrences of each word in the input string \n",
    "    using the 'Counter' tool.\n",
    "\n",
    "    Input\n",
    "        the_string (str): The input string to be processed \n",
    "        for word counting\n",
    "\n",
    "    Return:\n",
    "        word_count (Counter): A 'Counter' object containing \n",
    "        unique words and their respective counts\n",
    "    \"\"\"\n",
    "    \n",
    "    working_string = clean_string(the_string.lower())\n",
    "    word_list = working_string.split(\" \")\n",
    "    \n",
    "    word_count = Counter(word_list)\n",
    "    \n",
    "    return word_count"
   ]
  },
  {
   "cell_type": "markdown",
   "id": "6249ea57",
   "metadata": {},
   "source": [
    "The function `count_words_fast` returns a `Counter` object.\n",
    "\n",
    "To verify whether the objects returned by `count_words` and `count_words_fast` are distinct or identical, a comparison is performed."
   ]
  },
  {
   "cell_type": "code",
   "execution_count": 9,
   "id": "39435c10",
   "metadata": {},
   "outputs": [
    {
     "data": {
      "text/plain": [
       "True"
      ]
     },
     "execution_count": 9,
     "metadata": {},
     "output_type": "execute_result"
    }
   ],
   "source": [
    "count_words_fast(text) == count_words(text)"
   ]
  },
  {
   "cell_type": "markdown",
   "id": "c30fcadf",
   "metadata": {},
   "source": [
    "The two different implementations of the same function return identical objects."
   ]
  },
  {
   "cell_type": "markdown",
   "id": "9e114fb9",
   "metadata": {},
   "source": [
    "## Working with books\n",
    "---"
   ]
  },
  {
   "cell_type": "markdown",
   "id": "57239a93",
   "metadata": {},
   "source": [
    "The `read_book` function takes a `path_title` as input, which represents the path location of the book to be read. It uses the `open` function with the specified path to access and read the content of the book from the file."
   ]
  },
  {
   "cell_type": "code",
   "execution_count": 10,
   "id": "6747bbd6",
   "metadata": {},
   "outputs": [],
   "source": [
    "def read_book(path_title):\n",
    "    \"\"\"\n",
    "    The function reads a book from the path location and returns \n",
    "    it as a string.\n",
    "    \n",
    "    Input\n",
    "        path_title - path for a book\n",
    "    \n",
    "    Return\n",
    "        book - returns the book as a string\n",
    "    \"\"\"\n",
    "    \n",
    "    with open(path_title, \"r\", encoding=\"utf8\") as current_file:\n",
    "        \n",
    "        text = current_file.read()\n",
    "        book = text.replace(\"\\n\",\"\").replace(\"\\r\",\"\")\n",
    "        \n",
    "    return book"
   ]
  },
  {
   "cell_type": "code",
   "execution_count": 11,
   "id": "1c8f6565",
   "metadata": {},
   "outputs": [],
   "source": [
    "import os "
   ]
  },
  {
   "cell_type": "code",
   "execution_count": 12,
   "id": "6303b4b2",
   "metadata": {},
   "outputs": [],
   "source": [
    "relative_path = \"./books/\""
   ]
  },
  {
   "cell_type": "code",
   "execution_count": 13,
   "id": "0438ff12",
   "metadata": {},
   "outputs": [],
   "source": [
    "hamlet_path = os.path.join(relative_path,'English/shakespeare/Hamlet.txt')"
   ]
  },
  {
   "cell_type": "markdown",
   "id": "732d3247",
   "metadata": {},
   "source": [
    "Upon examining the value returned by `len`, it becomes evident that the `read_book` function has read in 150838 for the English version of Hamlet."
   ]
  },
  {
   "cell_type": "code",
   "execution_count": 14,
   "id": "4e1efa24",
   "metadata": {},
   "outputs": [
    {
     "name": "stdout",
     "output_type": "stream",
     "text": [
      "Number of characters: 150838\n"
     ]
    }
   ],
   "source": [
    "hamlet = read_book(hamlet_path)\n",
    "\n",
    "print(\"Number of characters: {}\".format(len(hamlet)))"
   ]
  },
  {
   "cell_type": "markdown",
   "id": "b3653464",
   "metadata": {},
   "source": [
    "Let's check the famous quote `To be or not to be` can be found in the Hamlet file."
   ]
  },
  {
   "cell_type": "code",
   "execution_count": 15,
   "id": "89a766fe",
   "metadata": {},
   "outputs": [],
   "source": [
    "hamlet_quote = \"To be or not to be\""
   ]
  },
  {
   "cell_type": "markdown",
   "id": "5f1ff12f",
   "metadata": {},
   "source": [
    "The `.find` method helps in identifying the index position of a substring within a given string. If the substring is present in the string, the method returns the first index of occurrence. Otherwise, it returns -1."
   ]
  },
  {
   "cell_type": "code",
   "execution_count": 16,
   "id": "c1e3f21a",
   "metadata": {},
   "outputs": [
    {
     "data": {
      "text/plain": [
       "'To be or not to be that is the QuestionWhether tis'"
      ]
     },
     "execution_count": 16,
     "metadata": {},
     "output_type": "execute_result"
    }
   ],
   "source": [
    "# line 1\n",
    "start_ind = hamlet.find(hamlet_quote)\n",
    "\n",
    "# line 2\n",
    "hamlet[start_ind : start_ind + 50 ]"
   ]
  },
  {
   "cell_type": "markdown",
   "id": "91c245e4",
   "metadata": {},
   "source": [
    "**Line 1** \n",
    "First, the `.find` method is used to search for the first occurrence of `hamlet_quote` substring within `hamlet`. The index position of the first character of the substring (if found) is stored in the variable `start_ind`.\n",
    "\n",
    "**Line 2**\n",
    "Next, the substring is extracted from `hamlet` using string indexing. The start index is given by `start_ind` and the stop index extends up to the next 50 characters."
   ]
  },
  {
   "cell_type": "markdown",
   "id": "502ccc6b",
   "metadata": {},
   "source": [
    "## Computing Word Frequency Statistics\n",
    "---"
   ]
  },
  {
   "cell_type": "markdown",
   "id": "ae4eae06",
   "metadata": {},
   "source": [
    "The objective of `word_stats` function is to determine the total count of unique words present in the book and obtain the frequencies of each word. "
   ]
  },
  {
   "cell_type": "code",
   "execution_count": 17,
   "id": "0c434313",
   "metadata": {},
   "outputs": [],
   "source": [
    "def word_stats(book_title):\n",
    "    \"\"\"\n",
    "    Function takes in a book title as it's input and returns the \n",
    "    number of unique word and frequencies of each word.\n",
    "    \n",
    "    Input\n",
    "        book_title (str) - Name of the book\n",
    "    \n",
    "    Returns\n",
    "        A tuple object is returned\n",
    "        \n",
    "        num_unique (int) - Number of unique words\n",
    "        counts (int) - Frequency of each unique word\n",
    "    \"\"\"\n",
    "    \n",
    "    word_count = count_words(book_title)\n",
    "    \n",
    "    num_unique = len(word_count)\n",
    "    counts = word_count.values()\n",
    "    \n",
    "    return (num_unique, counts)"
   ]
  },
  {
   "cell_type": "code",
   "execution_count": 18,
   "id": "bb0cd25b",
   "metadata": {},
   "outputs": [
    {
     "name": "stdout",
     "output_type": "stream",
     "text": [
      "Hamlet (English) - Unique Words: 6775 | Total Words: 26701\n"
     ]
    }
   ],
   "source": [
    "hamlet_stats = word_stats(hamlet)\n",
    "\n",
    "hamlet_unique = hamlet_stats[0]\n",
    "hamlet_total = sum(hamlet_stats[1])\n",
    "\n",
    "print(\"Hamlet (English) - Unique Words: {} | Total Words: {}\".format(hamlet_unique,hamlet_total))"
   ]
  },
  {
   "cell_type": "markdown",
   "id": "3bae9188",
   "metadata": {},
   "source": [
    "`word_stats` can be used to make a comparison between Shakespeare's Hamlet in English and it's German translation. This comparison will involve analyzing the unique word counts and word frequencies in both versions of the book."
   ]
  },
  {
   "cell_type": "code",
   "execution_count": 19,
   "id": "a367218e",
   "metadata": {},
   "outputs": [],
   "source": [
    "hamlet_german_path = os.path.join(relative_path,\"German/shakespeare/Hamlet.txt\")\n",
    "\n",
    "hamlet_german = read_book(hamlet_german_path)\n",
    "\n",
    "german_hamlet_stats = word_stats(hamlet_german)"
   ]
  },
  {
   "cell_type": "code",
   "execution_count": 20,
   "id": "147e75f4",
   "metadata": {},
   "outputs": [
    {
     "name": "stdout",
     "output_type": "stream",
     "text": [
      "Hamlet (English) - Unique Words: 6775 | Total Words: 26701\n",
      "Hamlet (German) - Unique Words: 9469 | Total Words: 30689\n"
     ]
    }
   ],
   "source": [
    "german_hamlet_unique = german_hamlet_stats[0]\n",
    "german_hamlet_total = sum(german_hamlet_stats[1])\n",
    "\n",
    "print(\"Hamlet (English) - Unique Words: {} | Total Words: {}\".format(hamlet_unique,hamlet_total))\n",
    "\n",
    "print(\"Hamlet (German) - Unique Words: {} | Total Words: {}\".format(german_hamlet_unique,german_hamlet_total))"
   ]
  },
  {
   "cell_type": "markdown",
   "id": "ab832157",
   "metadata": {},
   "source": [
    "English version of Hamlet contains `6775` unique words out of a total of `26701` words. On the other hand, the German translation of Hamlet consits of `9469` unique words among a total of `30689` words.\n",
    "\n",
    "This difference may be attributed to the inherent linguistic differences between the two languages and the nuances introduced during the translation process."
   ]
  },
  {
   "cell_type": "markdown",
   "id": "419ea891",
   "metadata": {},
   "source": [
    "## Reading Multiple Files\n",
    "---"
   ]
  },
  {
   "cell_type": "markdown",
   "id": "65d435a8",
   "metadata": {},
   "source": [
    "The next step is to systematically read and process each book stored within distinct subdirectories located within our designated book folder."
   ]
  },
  {
   "cell_type": "code",
   "execution_count": 21,
   "id": "f4431d01",
   "metadata": {},
   "outputs": [
    {
     "data": {
      "text/plain": [
       "'./books/'"
      ]
     },
     "execution_count": 21,
     "metadata": {},
     "output_type": "execute_result"
    }
   ],
   "source": [
    "relative_path"
   ]
  },
  {
   "cell_type": "markdown",
   "id": "5d994aea",
   "metadata": {},
   "source": [
    "The directory for books, which is stored in `relative_path` contains the four languages: English, German, French and Portuguese."
   ]
  },
  {
   "cell_type": "code",
   "execution_count": 22,
   "id": "60796c53",
   "metadata": {},
   "outputs": [
    {
     "data": {
      "text/plain": [
       "['.DS_Store', 'German', 'English', 'Portuguese', 'French']"
      ]
     },
     "execution_count": 22,
     "metadata": {},
     "output_type": "execute_result"
    }
   ],
   "source": [
    "os.listdir(relative_path)"
   ]
  },
  {
   "cell_type": "markdown",
   "id": "d90a1b61",
   "metadata": {},
   "source": [
    "### Helper Function\n",
    "---\n",
    "\n",
    "The `listdir_nohidden` function lists all non-hidden files present within a specified directory.\n",
    "\n",
    "The function takes `path` as input, representing the directory to be scanned. It then iterates through the files in the directory using `os.listdir`. For each file, the function checks if it starts with a dot (indicating a hidden file). \n",
    "If the file is not hidden, it is appended to the list of files `file_list`."
   ]
  },
  {
   "cell_type": "code",
   "execution_count": 23,
   "id": "64ae3896",
   "metadata": {},
   "outputs": [],
   "source": [
    "def listdir_nohidden(path):\n",
    "    \"\"\"   \n",
    "    List all non-hidden files in the specified directory.\n",
    "\n",
    "    Inputs:\n",
    "        path (str): The path of the directory to be scanned for\n",
    "        non-hidden files\n",
    "\n",
    "    Returns:\n",
    "        file_list (list): A list of non-hidden files\n",
    "    \"\"\"\n",
    "    \n",
    "    file_list = []\n",
    "    \n",
    "    for file in os.listdir(path):\n",
    "        if not file.startswith('.'):\n",
    "            file_list.append(file)\n",
    "            \n",
    "    return file_list"
   ]
  },
  {
   "cell_type": "code",
   "execution_count": 24,
   "id": "c51c2914",
   "metadata": {},
   "outputs": [
    {
     "name": "stdout",
     "output_type": "stream",
     "text": [
      "Languages: ['German', 'English', 'Portuguese', 'French']\n",
      "French Authors: ['de Maupassant', 'diderot', 'chevalier', 'shakespeare', 'sand']\n"
     ]
    }
   ],
   "source": [
    "# Using 'listdir_nohidden' to print all the languages\n",
    "print('Languages: {}'.format(listdir_nohidden(relative_path)))\n",
    "\n",
    "# Using 'listdir_nohidden' to print all the French authors\n",
    "print(\"French Authors: {}\".format(listdir_nohidden(relative_path + \"/French\")))"
   ]
  },
  {
   "cell_type": "markdown",
   "id": "fa1a1765",
   "metadata": {},
   "source": [
    "The first loop iterates over the different languages."
   ]
  },
  {
   "cell_type": "markdown",
   "id": "80ed1513",
   "metadata": {},
   "source": [
    "The first loop iterates over the different languages.\n",
    "\n",
    "The second loop is going through the author directory, which is created by concatenating strings of book directory path `relative_path` with current `language`.\n",
    "\n",
    "The innermost loop is used to loop over different book titles. The `title` variable that iterates through the book title directory is obtained by concatenating `relative_path` with currenth `language` and current `author`."
   ]
  },
  {
   "cell_type": "code",
   "execution_count": 26,
   "id": "cf64622e",
   "metadata": {},
   "outputs": [],
   "source": [
    "# looping over languages\n",
    "for language in listdir_nohidden(relative_path):\n",
    "    \n",
    "    # looping over authors\n",
    "    for author in listdir_nohidden(relative_path + \"/\" + language):\n",
    "        \n",
    "        # looping over book titles\n",
    "        for title in listdir_nohidden(relative_path + \"/\" + language + \"/\" + author):\n",
    "            \n",
    "            book_path = relative_path + \"/\" + language + \"/\" + author + \"/\" + title\n",
    "            book = read_book(book_path)\n",
    "            unique_words, total_words = word_stats(book)\n",
    "            \n",
    "            #print(\"Title: {} | Unique Words: {}\".format(title[:-4],unique_words))\n",
    "            #print(\"Title: {} | Author: {}\".format(title[:-4],author))\n",
    "            #print()"
   ]
  },
  {
   "cell_type": "markdown",
   "id": "a38a22be",
   "metadata": {},
   "source": [
    "## Book Stats Table\n",
    "---"
   ]
  },
  {
   "cell_type": "markdown",
   "id": "2a30f5af",
   "metadata": {},
   "source": [
    "Let's create a table for the books that will have the following columns:\n",
    "\n",
    "    * Language\n",
    "    * Author\n",
    "    * Title\n",
    "    * Length\n",
    "    * Unique"
   ]
  },
  {
   "cell_type": "code",
   "execution_count": 27,
   "id": "7e5817b3",
   "metadata": {},
   "outputs": [],
   "source": [
    "table_columns = ['Author', 'Title', 'Language', 'Length', 'Unique']"
   ]
  },
  {
   "cell_type": "code",
   "execution_count": 28,
   "id": "67e91766",
   "metadata": {},
   "outputs": [],
   "source": [
    "def book_stats(column_list, relative_dir):\n",
    "    \"\"\"  \n",
    "    Generate a pandas DataFrame containing statistics for books\n",
    "    in different languages and authors.\n",
    "\n",
    "    Inputs:\n",
    "        column_list (list): A list containing the column names for\n",
    "         the DataFrame (table)\n",
    "         relative_dir (str): The book directory\n",
    "\n",
    "    Returns:\n",
    "        table (pd.DataFrame) - DataFrame containing book statistics\n",
    "    \"\"\"\n",
    "\n",
    "    import pandas as pd \n",
    "    table = pd.DataFrame(columns = column_list)\n",
    "\n",
    "    row_num = 1\n",
    "\n",
    "    for language in listdir_nohidden(relative_dir):\n",
    "\n",
    "        for author in listdir_nohidden(relative_dir + \"/\" + language):\n",
    "\n",
    "            for title in listdir_nohidden(relative_dir + \"/\" + language + \"/\" + author):\n",
    "\n",
    "                book_path = os.path.join(relative_dir + \"/\" + language + \"/\" + author + \"/\" + title)\n",
    "                book = read_book(book_path)\n",
    "\n",
    "                unique_words, total_words = word_stats(book)\n",
    "                table.loc[row_num] = author.title(), title.replace(\".txt\",\"\"), language, sum(total_words), unique_words\n",
    "                row_num += 1\n",
    "\n",
    "    return table \n"
   ]
  },
  {
   "cell_type": "code",
   "execution_count": 29,
   "id": "f3ca1058",
   "metadata": {},
   "outputs": [],
   "source": [
    "stats = book_stats(table_columns,relative_path) "
   ]
  },
  {
   "cell_type": "code",
   "execution_count": 30,
   "id": "443cfd90",
   "metadata": {},
   "outputs": [
    {
     "data": {
      "text/plain": [
       "(102, 5)"
      ]
     },
     "execution_count": 30,
     "metadata": {},
     "output_type": "execute_result"
    }
   ],
   "source": [
    "stats.shape"
   ]
  },
  {
   "cell_type": "markdown",
   "id": "d48979ef",
   "metadata": {},
   "source": [
    "The `.shape` attribute of DataFrame object returns the number of rows contained in the dataframe and the number of columns.\n",
    "\n",
    "In this case, the `stats` dataframe contains 102 rows and 5 columns.\n"
   ]
  },
  {
   "cell_type": "markdown",
   "id": "e9effaa1",
   "metadata": {},
   "source": [
    "Looking at the first five and the last five entries of the `stats` dataframe."
   ]
  },
  {
   "cell_type": "code",
   "execution_count": 31,
   "id": "3a268c1f",
   "metadata": {},
   "outputs": [
    {
     "data": {
      "text/html": [
       "<div>\n",
       "<style scoped>\n",
       "    .dataframe tbody tr th:only-of-type {\n",
       "        vertical-align: middle;\n",
       "    }\n",
       "\n",
       "    .dataframe tbody tr th {\n",
       "        vertical-align: top;\n",
       "    }\n",
       "\n",
       "    .dataframe thead th {\n",
       "        text-align: right;\n",
       "    }\n",
       "</style>\n",
       "<table border=\"1\" class=\"dataframe\">\n",
       "  <thead>\n",
       "    <tr style=\"text-align: right;\">\n",
       "      <th></th>\n",
       "      <th>Author</th>\n",
       "      <th>Title</th>\n",
       "      <th>Language</th>\n",
       "      <th>Length</th>\n",
       "      <th>Unique</th>\n",
       "    </tr>\n",
       "  </thead>\n",
       "  <tbody>\n",
       "    <tr>\n",
       "      <th>1</th>\n",
       "      <td>Schiller</td>\n",
       "      <td>Wallensteins Lager</td>\n",
       "      <td>German</td>\n",
       "      <td>13302</td>\n",
       "      <td>4240</td>\n",
       "    </tr>\n",
       "    <tr>\n",
       "      <th>2</th>\n",
       "      <td>Schiller</td>\n",
       "      <td>die braut von messina</td>\n",
       "      <td>German</td>\n",
       "      <td>22349</td>\n",
       "      <td>6344</td>\n",
       "    </tr>\n",
       "    <tr>\n",
       "      <th>3</th>\n",
       "      <td>Schiller</td>\n",
       "      <td>Der Parasit, oder die Kunst, sein GlÅck zu ma...</td>\n",
       "      <td>German</td>\n",
       "      <td>18515</td>\n",
       "      <td>5918</td>\n",
       "    </tr>\n",
       "    <tr>\n",
       "      <th>4</th>\n",
       "      <td>Schiller</td>\n",
       "      <td>Die Verschwîrung des Fiesco zu Genua</td>\n",
       "      <td>German</td>\n",
       "      <td>28042</td>\n",
       "      <td>9995</td>\n",
       "    </tr>\n",
       "    <tr>\n",
       "      <th>5</th>\n",
       "      <td>Schiller</td>\n",
       "      <td>Kabale und Liebe</td>\n",
       "      <td>German</td>\n",
       "      <td>28433</td>\n",
       "      <td>9607</td>\n",
       "    </tr>\n",
       "  </tbody>\n",
       "</table>\n",
       "</div>"
      ],
      "text/plain": [
       "     Author                                              Title Language  \\\n",
       "1  Schiller                                 Wallensteins Lager   German   \n",
       "2  Schiller                              die braut von messina   German   \n",
       "3  Schiller  Der Parasit, oder die Kunst, sein GlÅck zu ma...   German   \n",
       "4  Schiller              Die Verschwîrung des Fiesco zu Genua   German   \n",
       "5  Schiller                                   Kabale und Liebe   German   \n",
       "\n",
       "   Length  Unique  \n",
       "1   13302    4240  \n",
       "2   22349    6344  \n",
       "3   18515    5918  \n",
       "4   28042    9995  \n",
       "5   28433    9607  "
      ]
     },
     "execution_count": 31,
     "metadata": {},
     "output_type": "execute_result"
    }
   ],
   "source": [
    "stats.head()"
   ]
  },
  {
   "cell_type": "code",
   "execution_count": 32,
   "id": "f51c5c33",
   "metadata": {
    "scrolled": true
   },
   "outputs": [
    {
     "data": {
      "text/html": [
       "<div>\n",
       "<style scoped>\n",
       "    .dataframe tbody tr th:only-of-type {\n",
       "        vertical-align: middle;\n",
       "    }\n",
       "\n",
       "    .dataframe tbody tr th {\n",
       "        vertical-align: top;\n",
       "    }\n",
       "\n",
       "    .dataframe thead th {\n",
       "        text-align: right;\n",
       "    }\n",
       "</style>\n",
       "<table border=\"1\" class=\"dataframe\">\n",
       "  <thead>\n",
       "    <tr style=\"text-align: right;\">\n",
       "      <th></th>\n",
       "      <th>Author</th>\n",
       "      <th>Title</th>\n",
       "      <th>Language</th>\n",
       "      <th>Length</th>\n",
       "      <th>Unique</th>\n",
       "    </tr>\n",
       "  </thead>\n",
       "  <tbody>\n",
       "    <tr>\n",
       "      <th>98</th>\n",
       "      <td>Sand</td>\n",
       "      <td>La Marquise</td>\n",
       "      <td>French</td>\n",
       "      <td>14529</td>\n",
       "      <td>4755</td>\n",
       "    </tr>\n",
       "    <tr>\n",
       "      <th>99</th>\n",
       "      <td>Sand</td>\n",
       "      <td>L' Orco</td>\n",
       "      <td>French</td>\n",
       "      <td>8558</td>\n",
       "      <td>3134</td>\n",
       "    </tr>\n",
       "    <tr>\n",
       "      <th>100</th>\n",
       "      <td>Sand</td>\n",
       "      <td>Mattea</td>\n",
       "      <td>French</td>\n",
       "      <td>20902</td>\n",
       "      <td>6390</td>\n",
       "    </tr>\n",
       "    <tr>\n",
       "      <th>101</th>\n",
       "      <td>Sand</td>\n",
       "      <td>Metella</td>\n",
       "      <td>French</td>\n",
       "      <td>19411</td>\n",
       "      <td>5645</td>\n",
       "    </tr>\n",
       "    <tr>\n",
       "      <th>102</th>\n",
       "      <td>Sand</td>\n",
       "      <td>Oeuvres illustrÇes de George Sand</td>\n",
       "      <td>French</td>\n",
       "      <td>22545</td>\n",
       "      <td>7441</td>\n",
       "    </tr>\n",
       "  </tbody>\n",
       "</table>\n",
       "</div>"
      ],
      "text/plain": [
       "    Author                               Title Language  Length  Unique\n",
       "98    Sand                         La Marquise   French   14529    4755\n",
       "99    Sand                             L' Orco   French    8558    3134\n",
       "100   Sand                              Mattea   French   20902    6390\n",
       "101   Sand                             Metella   French   19411    5645\n",
       "102   Sand  Oeuvres illustrÇes de George Sand   French   22545    7441"
      ]
     },
     "execution_count": 32,
     "metadata": {},
     "output_type": "execute_result"
    }
   ],
   "source": [
    "stats.tail()"
   ]
  },
  {
   "cell_type": "markdown",
   "id": "446388be",
   "metadata": {},
   "source": [
    "## Plotting Book Statistics\n",
    "---"
   ]
  },
  {
   "cell_type": "markdown",
   "id": "33c70d84",
   "metadata": {},
   "source": [
    "The process of extracting data from specific columns of a dataframe is achieved using the column names as identifiers. By referencing the desired column names, we can retrieve the data contained in those specific columns."
   ]
  },
  {
   "cell_type": "code",
   "execution_count": 33,
   "id": "98f073dc",
   "metadata": {},
   "outputs": [],
   "source": [
    "import matplotlib.pyplot as plt"
   ]
  },
  {
   "cell_type": "markdown",
   "id": "06c3b46e",
   "metadata": {},
   "source": [
    "The rows of the `stats` dataframe are filtered to extract statistics for `Hamlet`. The extracted data is stored in the dataframe `hamlet_stats`.\n"
   ]
  },
  {
   "cell_type": "code",
   "execution_count": 34,
   "id": "8ba57493",
   "metadata": {},
   "outputs": [],
   "source": [
    "hamlet_stats = stats[stats[\"Title\"] == \"Hamlet\"]"
   ]
  },
  {
   "cell_type": "code",
   "execution_count": 35,
   "id": "e367b62c",
   "metadata": {
    "scrolled": true
   },
   "outputs": [
    {
     "data": {
      "text/html": [
       "<div>\n",
       "<style scoped>\n",
       "    .dataframe tbody tr th:only-of-type {\n",
       "        vertical-align: middle;\n",
       "    }\n",
       "\n",
       "    .dataframe tbody tr th {\n",
       "        vertical-align: top;\n",
       "    }\n",
       "\n",
       "    .dataframe thead th {\n",
       "        text-align: right;\n",
       "    }\n",
       "</style>\n",
       "<table border=\"1\" class=\"dataframe\">\n",
       "  <thead>\n",
       "    <tr style=\"text-align: right;\">\n",
       "      <th></th>\n",
       "      <th>Author</th>\n",
       "      <th>Title</th>\n",
       "      <th>Language</th>\n",
       "      <th>Length</th>\n",
       "      <th>Unique</th>\n",
       "    </tr>\n",
       "  </thead>\n",
       "  <tbody>\n",
       "    <tr>\n",
       "      <th>34</th>\n",
       "      <td>Shakespeare</td>\n",
       "      <td>Hamlet</td>\n",
       "      <td>German</td>\n",
       "      <td>30689</td>\n",
       "      <td>9469</td>\n",
       "    </tr>\n",
       "    <tr>\n",
       "      <th>40</th>\n",
       "      <td>Shakespeare</td>\n",
       "      <td>Hamlet</td>\n",
       "      <td>English</td>\n",
       "      <td>26701</td>\n",
       "      <td>6775</td>\n",
       "    </tr>\n",
       "    <tr>\n",
       "      <th>58</th>\n",
       "      <td>Shakespeare</td>\n",
       "      <td>Hamlet</td>\n",
       "      <td>Portuguese</td>\n",
       "      <td>29860</td>\n",
       "      <td>9491</td>\n",
       "    </tr>\n",
       "  </tbody>\n",
       "</table>\n",
       "</div>"
      ],
      "text/plain": [
       "         Author   Title    Language  Length  Unique\n",
       "34  Shakespeare  Hamlet      German   30689    9469\n",
       "40  Shakespeare  Hamlet     English   26701    6775\n",
       "58  Shakespeare  Hamlet  Portuguese   29860    9491"
      ]
     },
     "execution_count": 35,
     "metadata": {},
     "output_type": "execute_result"
    }
   ],
   "source": [
    "hamlet_stats"
   ]
  },
  {
   "cell_type": "markdown",
   "id": "27cfd063",
   "metadata": {},
   "source": [
    "The book statistics stored in `stats` is used to create a plot where the length of the books are plotted along the horizontal axis and the number of unique words are plotted along the vertical axis."
   ]
  },
  {
   "cell_type": "code",
   "execution_count": 36,
   "id": "66592775",
   "metadata": {},
   "outputs": [
    {
     "data": {
      "image/png": "[encoded data removed]",
      "text/plain": [
       "<Figure size 1000x700 with 1 Axes>"
      ]
     },
     "metadata": {},
     "output_type": "display_data"
    }
   ],
   "source": [
    "plt.figure(figsize=(10,7))\n",
    "plt.plot(stats['Length'],stats['Unique'],\"bo\");\n",
    "plt.title(\"Book Stats\")\n",
    "plt.xlabel(\"Length\")\n",
    "plt.ylabel(\"Unique Words\");"
   ]
  },
  {
   "cell_type": "markdown",
   "id": "cbaa9df6",
   "metadata": {},
   "source": [
    "The generated plot provides a visualization into the distribution of unique words among all the books, spanning from just under 5000 unique words to nearly 40000 unique words.\n",
    "\n",
    "The books are categorized based on their languages, and the plot is rendered using the `loglog` method. This particular method modifies the scaling of both the horizontal and vertical axes, enabling a logarithmicscale representation of the data."
   ]
  },
  {
   "cell_type": "code",
   "execution_count": 38,
   "id": "332c1375",
   "metadata": {},
   "outputs": [
    {
     "data": {
      "image/png": "[encoded data removed]",
      "text/plain": [
       "<Figure size 1000x1000 with 1 Axes>"
      ]
     },
     "metadata": {},
     "output_type": "display_data"
    }
   ],
   "source": [
    "plt.figure(figsize=(10,10))\n",
    "\n",
    "# plotting English books\n",
    "subset = stats[stats['Language']==\"English\"]\n",
    "plt.loglog(subset[\"Length\"],subset[\"Unique\"],\"o\",color=\"crimson\",label=\"English\");\n",
    "\n",
    "# plotting French books\n",
    "subset = stats[stats[\"Language\"]==\"French\"]\n",
    "plt.loglog(subset[\"Length\"],subset[\"Unique\"],\"o\",color=\"forestgreen\",label=\"French\");\n",
    "\n",
    "# plotting Portuguese books\n",
    "subset = stats[stats[\"Language\"]==\"Portuguese\"]\n",
    "plt.loglog(subset[\"Length\"],subset[\"Unique\"],\"o\",color=\"orange\",label=\"Portuguese\");\n",
    "\n",
    "# plotting German books\n",
    "subset = stats[stats[\"Language\"]==\"German\"]\n",
    "plt.loglog(subset[\"Length\"],subset[\"Unique\"],\"o\",color=\"blueviolet\",label=\"German\");\n",
    "\n",
    "# tidying up the plot by giving titles,\n",
    "# axis labels and legend\n",
    "plt.title(\"Book Statistics\");\n",
    "plt.legend()\n",
    "plt.xlabel(\"Book Length\")\n",
    "plt.ylabel(\"Number of Unique Words\")\n",
    "plt.xlim([10**3,10**6]);\n",
    "plt.ylim([10**3,10**5]);"
   ]
  },
  {
   "cell_type": "markdown",
   "id": "fab79b3f",
   "metadata": {},
   "source": [
    "Upon categorizing the book statistics by language and plotting the data, a more insightful perspective regarding book length and unique word count is obtained. Notably, a Portuguese book stands out with 40000 unique words, while a German book displays a relatively small count of 1724 unique words.\n",
    "\n",
    "The plot effectively illustrates that Portuguese books in this dataset tend to exhibit a higher number of unique words when compared to other languages."
   ]
  },
  {
   "cell_type": "markdown",
   "id": "6b3b942e",
   "metadata": {},
   "source": [
    "## Investigating 'A Midsummer Night's Dream'\n",
    "---\n",
    "\n",
    "The primary objective is to analyze and visualize the distribution of word frequencies of `A Midsummer Night's Dream` for these five translations: English, French, German, Dutch and Finnish.\n",
    "\n",
    "Specifically, the aim is to accomplish these following tasks:\n",
    "\n",
    "- **Data Collection**: Gather the text data for various translations of the play \"A Midsummer Night's Dream\".\n",
    "- **Word Frequency Distribution**: Process the text data to identify the frequency of each word in the different translations.\n",
    "- **Summary Statistics** - Create summary statistics, such as mean, median, and standard deviation, to gain insights into the characteristics of the text for each translation.\n",
    "- **Data Visualization** - Create visual representations to visually depict the word frequency distribution and summary statistics for each translation."
   ]
  },
  {
   "cell_type": "markdown",
   "id": "02f2e462",
   "metadata": {},
   "source": [
    "### Task 1\n",
    "---\n",
    "\n",
    "The data from a CSV file will be imported into a pandas dataframe using the `pd.read_csv` function.\n",
    "\n",
    "The `index_col` argument will be utilized to set the first column in the CSV file as the index for the dataframe. This will ensure appropriate indexing for efficient data access and manipulation during subsequent analysis and visualization."
   ]
  },
  {
   "cell_type": "code",
   "execution_count": 39,
   "id": "cb3e100b",
   "metadata": {},
   "outputs": [],
   "source": [
    "import pandas as pd \n",
    "import os \n",
    "import numpy as np\n",
    "from collections import Counter \n",
    "import matplotlib.pyplot as plt "
   ]
  },
  {
   "cell_type": "code",
   "execution_count": 40,
   "id": "e8d4b3c2",
   "metadata": {},
   "outputs": [],
   "source": [
    "file_loc = os.path.join(\"./\",'midsummer.csv')"
   ]
  },
  {
   "cell_type": "code",
   "execution_count": 41,
   "id": "99b6a1b7",
   "metadata": {},
   "outputs": [],
   "source": [
    "summer_nights = pd.read_csv(file_loc, index_col = 0)"
   ]
  },
  {
   "cell_type": "markdown",
   "id": "c16a89cd",
   "metadata": {},
   "source": [
    "The dataframe is structured with two columns: `Language`, denoting the langauage of translation, and `Text`, signifying the corresponding book content."
   ]
  },
  {
   "cell_type": "code",
   "execution_count": 42,
   "id": "e011498d",
   "metadata": {},
   "outputs": [
    {
     "data": {
      "text/html": [
       "<div>\n",
       "<style scoped>\n",
       "    .dataframe tbody tr th:only-of-type {\n",
       "        vertical-align: middle;\n",
       "    }\n",
       "\n",
       "    .dataframe tbody tr th {\n",
       "        vertical-align: top;\n",
       "    }\n",
       "\n",
       "    .dataframe thead th {\n",
       "        text-align: right;\n",
       "    }\n",
       "</style>\n",
       "<table border=\"1\" class=\"dataframe\">\n",
       "  <thead>\n",
       "    <tr style=\"text-align: right;\">\n",
       "      <th></th>\n",
       "      <th>Language</th>\n",
       "      <th>Text</th>\n",
       "    </tr>\n",
       "  </thead>\n",
       "  <tbody>\n",
       "    <tr>\n",
       "      <th>0</th>\n",
       "      <td>French</td>\n",
       "      <td>ACTE PREMIERSCÈNE ILa scène représente un appa...</td>\n",
       "    </tr>\n",
       "    <tr>\n",
       "      <th>1</th>\n",
       "      <td>German</td>\n",
       "      <td>﻿The Project Gutenberg EBook of Ein Sommernach...</td>\n",
       "    </tr>\n",
       "    <tr>\n",
       "      <th>2</th>\n",
       "      <td>Finnish</td>\n",
       "      <td>ENSIMMÄINEN NÄYTÖS.Ensimmäinen kohtaus.    Ate...</td>\n",
       "    </tr>\n",
       "    <tr>\n",
       "      <th>3</th>\n",
       "      <td>Dutch</td>\n",
       "      <td>EERSTE TOONEEL.Athene. Een Zaal in het paleis ...</td>\n",
       "    </tr>\n",
       "    <tr>\n",
       "      <th>4</th>\n",
       "      <td>English</td>\n",
       "      <td>A Midsommer Nights DreameActus primusEnter The...</td>\n",
       "    </tr>\n",
       "  </tbody>\n",
       "</table>\n",
       "</div>"
      ],
      "text/plain": [
       "  Language                                               Text\n",
       "0   French  ACTE PREMIERSCÈNE ILa scène représente un appa...\n",
       "1   German  ﻿The Project Gutenberg EBook of Ein Sommernach...\n",
       "2  Finnish  ENSIMMÄINEN NÄYTÖS.Ensimmäinen kohtaus.    Ate...\n",
       "3    Dutch  EERSTE TOONEEL.Athene. Een Zaal in het paleis ...\n",
       "4  English  A Midsommer Nights DreameActus primusEnter The..."
      ]
     },
     "execution_count": 42,
     "metadata": {},
     "output_type": "execute_result"
    }
   ],
   "source": [
    "summer_nights"
   ]
  },
  {
   "cell_type": "markdown",
   "id": "d2963de3",
   "metadata": {},
   "source": [
    "### Task 2\n",
    "---\n",
    "\n",
    "- Computing the word frequency dictionary for the given `text` using the `count_words_fast` function. The resulting dictionary is stored as `counted_text`.\n",
    "- Creating a pandas dataframe named `data`.\n",
    "- Utilizing the `counted_text` dictionary to define two columns in the `data` dataframe:\n",
    "    - `word`: containing each unique word present in the `text`\n",
    "    - `count`: representing the frequency of occurrence of each word"
   ]
  },
  {
   "cell_type": "code",
   "execution_count": 43,
   "id": "da5b7b3e",
   "metadata": {},
   "outputs": [],
   "source": [
    "def count_words_fast(text):\n",
    "    \"\"\" \n",
    "    Cleans the input text by replacing punctuations with empty string.\n",
    "    The function also counts the occurrence of each word in the input text.\n",
    "\n",
    "    Inputs:\n",
    "        text (str): The input text\n",
    "\n",
    "    Returns: \n",
    "        Counter: A Counter object containing word frequencies\n",
    "    \"\"\"\n",
    "    \n",
    "    text = text.lower()\n",
    "    skips = [\".\",\",\",\";\",\":\",\"'\",'\"',\"\\n\",\"!\",\"?\",\"(\",\")\"]\n",
    "    \n",
    "    for ch in skips:\n",
    "        text = text.replace(ch,\"\")\n",
    "        \n",
    "    word_counts = Counter(text.split(\" \"))\n",
    "    return word_counts"
   ]
  },
  {
   "cell_type": "code",
   "execution_count": 44,
   "id": "1713a231",
   "metadata": {},
   "outputs": [],
   "source": [
    "data = pd.DataFrame(columns=[\"Word\",\"Count\"])"
   ]
  },
  {
   "cell_type": "markdown",
   "id": "374c2a58",
   "metadata": {},
   "source": [
    "For the time being, we are looking at the word count statistics only for French translation."
   ]
  },
  {
   "cell_type": "code",
   "execution_count": 45,
   "id": "af1ccc84",
   "metadata": {},
   "outputs": [],
   "source": [
    "language, text = summer_nights.iloc[0]\n",
    "\n",
    "counted_text = count_words_fast(text)\n",
    "val = 0\n",
    "\n",
    "for ele in counted_text:\n",
    "\n",
    "    data.loc[val] = ele, counted_text[ele]\n",
    "    val += 1"
   ]
  },
  {
   "cell_type": "markdown",
   "id": "6946c665",
   "metadata": {},
   "source": [
    "### Task 3\n",
    "---\n",
    "\n",
    "- Introducing a new column named `Length` into the `data` dataframe. This column represents the length of each word listed in the `word` column.\n",
    "- Adding another column named `Frequency`. The values in this column will be determined as follows:\n",
    "    - If the `count` for a word is greater than 10, label: `frequent`\n",
    "    - If the `count` for a word is between 1 and 10 (exclusive), label: `infrequent`\n",
    "    - If the `count` for a word is exactly 1, label: `unique`"
   ]
  },
  {
   "cell_type": "code",
   "execution_count": 46,
   "id": "c7188113",
   "metadata": {},
   "outputs": [],
   "source": [
    "# adding the new columns to data\n",
    "data = pd.DataFrame(columns = ['Word','Count','Length','Frequency'])\n",
    "# resetting the row index\n",
    "val = 0"
   ]
  },
  {
   "cell_type": "code",
   "execution_count": 47,
   "id": "2969df68",
   "metadata": {},
   "outputs": [],
   "source": [
    "# looping through all the words\n",
    "for ele in counted_text:\n",
    "    \n",
    "    # condition 1\n",
    "    if counted_text[ele] > 10:\n",
    "        data.loc[val] = ele, counted_text[ele],len(ele),\"frequent\"\n",
    "        \n",
    "    # condition 2\n",
    "    elif counted_text[ele] > 1 and counted_text[ele] <= 10:\n",
    "        data.loc[val] = ele, counted_text[ele], len(ele), \"infrequent\"\n",
    "    \n",
    "    # condition 3\n",
    "    elif counted_text[ele] == 1:\n",
    "        data.loc[val] = ele, counted_text[ele], len(ele), \"unique\"\n",
    "        \n",
    "    val += 1"
   ]
  },
  {
   "cell_type": "code",
   "execution_count": 48,
   "id": "07f5deaa",
   "metadata": {},
   "outputs": [
    {
     "name": "stdout",
     "output_type": "stream",
     "text": [
      "Word Stats for French Translation\n",
      "Frequent Words: 187 | Infrequent Words: 1183 | Unique Words: 4387\n"
     ]
    }
   ],
   "source": [
    "unique_len = len(data.loc[data[\"Frequency\"] == \"unique\"])\n",
    "frequent_len = len(data.loc[data['Frequency'] == \"frequent\"])\n",
    "infrequent_len = len(data.loc[data['Frequency'] == \"infrequent\"])\n",
    "\n",
    "print(\"Word Stats for French Translation\")\n",
    "print(\"Frequent Words: {} | Infrequent Words: {} | Unique Words: {}\".format(frequent_len, infrequent_len, unique_len))"
   ]
  },
  {
   "cell_type": "markdown",
   "id": "bef54c45",
   "metadata": {},
   "source": [
    "### Task 4\n",
    "---\n",
    "\n",
    "Creating a pandas dataframe named `sub_data` for calculating the following word statistics:\n",
    "\n",
    "- `mean_word_length`: indicating the mean word length for each value\n",
    "- `num_words`: representing the total number of words in each frequency category\n",
    "\n",
    "The dataframe will also contain these columns:\n",
    "\n",
    "- `frequency`: containing a list of string descriptions for word frequency\n",
    "- `language`: representing the language of the text\n"
   ]
  },
  {
   "cell_type": "code",
   "execution_count": 49,
   "id": "c3c65258",
   "metadata": {},
   "outputs": [],
   "source": [
    "sub_data = pd.DataFrame(columns = [\"Language\",\"Frequency\",\"Mean Word Length\",\"Num Words\"])\n",
    "frequency_list = [\"frequent\",\"infrequent\",\"unique\"]"
   ]
  },
  {
   "cell_type": "code",
   "execution_count": 50,
   "id": "bda6a2ff",
   "metadata": {},
   "outputs": [],
   "source": [
    "#calculating the mean word length for each frequency\n",
    "the_length = 0\n",
    "mean_dict = {}\n",
    "\n",
    "# looping over all three categories of word frequencies\n",
    "for freq in frequency_list:\n",
    "    \n",
    "    # extracting the data for each word frequencies\n",
    "    temporary_df = data.loc[data[\"Frequency\"] == freq]\n",
    "    \n",
    "    # iterating through each word belonging\n",
    "    # to a particular frequency\n",
    "    for i in range(len(temporary_df)):\n",
    "        \n",
    "        # calculating the sum of word lengths\n",
    "        # and storing them in 'the_length'\n",
    "        val = temporary_df.iloc[i][\"Length\"]\n",
    "        the_length += val\n",
    "        \n",
    "    # calculating mean word length by dividing\n",
    "    # 'the_length' by number of entries\n",
    "    mean_dict[freq] = (the_length / len(temporary_df))\n",
    "    the_length = 0\n"
   ]
  },
  {
   "cell_type": "code",
   "execution_count": 51,
   "id": "acf8d2d8",
   "metadata": {},
   "outputs": [
    {
     "name": "stdout",
     "output_type": "stream",
     "text": [
      "  Language   Frequency  Mean Word Length  Num Words\n",
      "0   French    frequent          4.053476        187\n",
      "1   French  infrequent          6.224852       1183\n",
      "2   French      unique          9.719170       4387\n"
     ]
    }
   ],
   "source": [
    "row_count = 0\n",
    "\n",
    "for freq_type in frequency_list:\n",
    "    \n",
    "    sub_data.loc[row_count] = language, freq_type, mean_dict[freq_type], len(data.loc[data[\"Frequency\"] == freq_type])\n",
    "    row_count += 1\n",
    "    \n",
    "print(sub_data)    "
   ]
  },
  {
   "cell_type": "markdown",
   "id": "bc9d2de3",
   "metadata": {},
   "source": [
    "### Task 5\n",
    "---\n",
    "\n",
    "Creating a pandas dataframe `grouped_data` to work with different translation of A Midsummer Night's Dream.\n",
    "\n",
    "- Iterating through the rows of `summer_nights`, the following task will be performed:\n",
    "\n",
    "    * Extracting the `language` and `text` values from the `i-th` row of `hamlets` using the `.iloc` method, storing them in variables\n",
    "    * Invoking the `summarize_text` function with the `language` and `text` variables, storing them in `sub_data`\n",
    "    * Appending the `sub_data` dataframe to `grouped_data` using `.append` function, ensuring the data is consolidated row-wise"
   ]
  },
  {
   "cell_type": "markdown",
   "id": "6c725dee",
   "metadata": {},
   "source": [
    "### Helper Function\n",
    "\n",
    "The `summarize_text` function takes the `language` and `text` as input and computes the word frequency and characteristics of the provided text."
   ]
  },
  {
   "cell_type": "code",
   "execution_count": 52,
   "id": "c5b7066e",
   "metadata": {},
   "outputs": [],
   "source": [
    "def summarize_text(language,text):\n",
    "    \"\"\"   \n",
    "    Summarizes the word frequency and characteristics of the given text.\n",
    "\n",
    "    Inputs:\n",
    "        language (str): The language of the text\n",
    "        text (str): The input text\n",
    "\n",
    "    Returns:\n",
    "        pandas.DataFrame: A dataframe containing the word frequency\n",
    "        and characteristics summary\n",
    "    \"\"\"\n",
    "    \n",
    "    counted_text = count_words_fast(text)\n",
    "    \n",
    "    data = pd.DataFrame({\"Word\": list(counted_text.keys()),\"Count\": list(counted_text.values())})\n",
    "    \n",
    "    data.loc[data[\"Count\"] > 10, \"frequency\"] = \"frequent\"\n",
    "    data.loc[data[\"Count\"] <= 10, \"frequency\"] = \"infrequent\"\n",
    "    data.loc[data[\"Count\"] == 1, \"frequency\"] = \"unique\"\n",
    "    \n",
    "    data[\"Length\"] = data[\"Word\"].apply(len)\n",
    "    \n",
    "    subset_data = pd.DataFrame({\n",
    "                                \"Language\": language, \n",
    "                                \"Frequency\": [\"frequent\",\"infrequent\",\"unique\"], \n",
    "                                \"Mean Word Length\": data.groupby(by=\"frequency\")[\"Length\"].mean(),\n",
    "                                \"Num Words\": data.groupby(by = 'frequency').size()\n",
    "                               })\n",
    "    \n",
    "    return subset_data"
   ]
  },
  {
   "cell_type": "code",
   "execution_count": 53,
   "id": "951e2c00",
   "metadata": {},
   "outputs": [],
   "source": [
    "grouped_data = pd.DataFrame()"
   ]
  },
  {
   "cell_type": "code",
   "execution_count": 54,
   "id": "6af58f80",
   "metadata": {},
   "outputs": [
    {
     "name": "stdout",
     "output_type": "stream",
     "text": [
      "French\n",
      "German\n",
      "Finnish\n",
      "Dutch\n",
      "English\n"
     ]
    },
    {
     "name": "stderr",
     "output_type": "stream",
     "text": [
      "/var/folders/yr/xs9chqf96k95nh97118j_s7m0000gn/T/ipykernel_20864/2341973199.py:6: FutureWarning: The frame.append method is deprecated and will be removed from pandas in a future version. Use pandas.concat instead.\n",
      "  grouped_data = grouped_data.append(sub_data);\n",
      "/var/folders/yr/xs9chqf96k95nh97118j_s7m0000gn/T/ipykernel_20864/2341973199.py:6: FutureWarning: The frame.append method is deprecated and will be removed from pandas in a future version. Use pandas.concat instead.\n",
      "  grouped_data = grouped_data.append(sub_data);\n",
      "/var/folders/yr/xs9chqf96k95nh97118j_s7m0000gn/T/ipykernel_20864/2341973199.py:6: FutureWarning: The frame.append method is deprecated and will be removed from pandas in a future version. Use pandas.concat instead.\n",
      "  grouped_data = grouped_data.append(sub_data);\n",
      "/var/folders/yr/xs9chqf96k95nh97118j_s7m0000gn/T/ipykernel_20864/2341973199.py:6: FutureWarning: The frame.append method is deprecated and will be removed from pandas in a future version. Use pandas.concat instead.\n",
      "  grouped_data = grouped_data.append(sub_data);\n",
      "/var/folders/yr/xs9chqf96k95nh97118j_s7m0000gn/T/ipykernel_20864/2341973199.py:6: FutureWarning: The frame.append method is deprecated and will be removed from pandas in a future version. Use pandas.concat instead.\n",
      "  grouped_data = grouped_data.append(sub_data);\n"
     ]
    }
   ],
   "source": [
    "for i in range(len(summer_nights)):\n",
    "    \n",
    "    language, text = summer_nights.iloc[i]\n",
    "    print(language)\n",
    "    sub_data = summarize_text(language,text)\n",
    "    grouped_data = grouped_data.append(sub_data);"
   ]
  },
  {
   "cell_type": "markdown",
   "id": "7b5e2eb2",
   "metadata": {},
   "source": [
    "Filtering the dataframe to display only the rows corresponding to the Finnish translation of A Midsummer Night's Dream."
   ]
  },
  {
   "cell_type": "code",
   "execution_count": 55,
   "metadata": {},
   "outputs": [
    {
     "name": "stdout",
     "output_type": "stream",
     "text": [
      "           Language   Frequency  Mean Word Length  Num Words\n",
      "frequency                                                   \n",
      "frequent    Finnish    frequent          4.261364         88\n",
      "infrequent  Finnish  infrequent          5.994904        785\n",
      "unique      Finnish      unique          9.941060       4547\n"
     ]
    }
   ],
   "source": [
    "print(grouped_data.loc[grouped_data[\"Language\"] == \"Finnish\"])"
   ]
  },
  {
   "cell_type": "markdown",
   "id": "6a960440",
   "metadata": {},
   "source": [
    "Filtering the dataframe to display the rows representing words that occur frequently in different translations.\n",
    "\n",
    "Among the languages, `Finnish` exhibits a comparatively lower frequency of frequent words (88), while the other languages show relatively higher frequencies."
   ]
  },
  {
   "cell_type": "code",
   "execution_count": 56,
   "id": "0c5fdc91",
   "metadata": {},
   "outputs": [
    {
     "name": "stdout",
     "output_type": "stream",
     "text": [
      "          Language Frequency  Mean Word Length  Num Words\n",
      "frequency                                                \n",
      "frequent    French  frequent          4.053476        187\n",
      "frequent    German  frequent          3.872222        180\n",
      "frequent   Finnish  frequent          4.261364         88\n",
      "frequent     Dutch  frequent          3.754286        175\n",
      "frequent   English  frequent          3.882682        179\n"
     ]
    }
   ],
   "source": [
    "print(grouped_data.loc[grouped_data[\"Frequency\"] == \"frequent\"])"
   ]
  },
  {
   "cell_type": "markdown",
   "id": "d29d4667",
   "metadata": {},
   "source": [
    "### Task 6\n",
    "---\n",
    "\n",
    "Plotting the word statistics for each translations on a single plot."
   ]
  },
  {
   "cell_type": "code",
   "execution_count": 57,
   "id": "4f901ec6",
   "metadata": {},
   "outputs": [
    {
     "data": {
      "image/png": "[encoded data removed]",
      "text/plain": [
       "<Figure size 1000x700 with 1 Axes>"
      ]
     },
     "metadata": {},
     "output_type": "display_data"
    }
   ],
   "source": [
    "plt.figure(figsize=(10,7))\n",
    "\n",
    "colors = {\"Dutch\": \"green\", \"English\": \"blue\", \"German\": \"red\", \"Finnish\": \"magenta\", \"French\": \"cyan\"}\n",
    "markers = {\"frequent\": \"o\", \"infrequent\": \"s\", \"unique\": \"^\"}\n",
    "\n",
    "for k in range(grouped_data.shape[0]):\n",
    "    row = grouped_data.iloc[k]\n",
    "    plt.plot(row[\"Mean Word Length\"],row[\"Num Words\"],marker = markers[row[\"Frequency\"]], \n",
    "             color = colors[row[\"Language\"]], markersize = 10)\n",
    "    \n",
    "color_legend = []\n",
    "marker_legend = []\n",
    "\n",
    "for color in colors:\n",
    "    \n",
    "    color_legend.append(plt.plot([],[],\n",
    "                                 color = colors[color],\n",
    "                                 marker = \"o\",\n",
    "                                 label=color,\n",
    "                                 markersize = 10,\n",
    "                                 linestyle = \"None\"))\n",
    "    \n",
    "for marker in markers:\n",
    "    \n",
    "    marker_legend.append(plt.plot([],[],\n",
    "                                  color = \"k\",\n",
    "                                  marker = markers[marker],\n",
    "                                  label = marker, \n",
    "                                  markersize = 10, \n",
    "                                  linestyle = \"None\"))\n",
    "    \n",
    "plt.legend(numpoints=1, loc = \"upper left\")\n",
    "\n",
    "plt.xlabel(\"Mean Word Length\")\n",
    "plt.ylabel(\"Number of Words\");"
   ]
  },
  {
   "cell_type": "markdown",
   "id": "692a25f8",
   "metadata": {},
   "source": [
    "In the analysis comparing various translations of **A Midsummer Night's Dream**, notable distinctions emerge among the different languages. \n",
    "\n",
    "- The `German` translation stands out with the highest count of `unique` words, signifying it's linguistic richness. The `English` version displays distinct differences, both in terms of the count of unique words and word lengths, setting it apart from the remaining languages.\n",
    "\n",
    "- For `infrequent` words, the translations in `Dutch` and `French` exhibit similarities in usage patterns. The `English` version diverges by demonstrating shorter word lengths. In contrast, `Finnish` translation demonstrates the lowest occurrence of infrequent words among all languages.\n",
    "\n",
    "- Regarding `frequent` words, an intriguing convergence emerges across all five languages. `German` and `English` share a significant overlap. Additionally, the `Dutch` version distinguishes itself slightly by showcasing shortest word lengths, while `Finnish` translations exhibit longest word lengths.\n",
    "\n",
    "---"
   ]
  }
 ],
 "metadata": {
  "kernelspec": {
   "display_name": "Python 3 (ipykernel)",
   "language": "python",
   "name": "python3"
  },
  "language_info": {
   "codemirror_mode": {
    "name": "ipython",
    "version": 3
   },
   "file_extension": ".py",
   "mimetype": "text/x-python",
   "name": "python",
   "nbconvert_exporter": "python",
   "pygments_lexer": "ipython3",
   "version": "3.9.17"
  }
 },
 "nbformat": 4,
 "nbformat_minor": 5
}
